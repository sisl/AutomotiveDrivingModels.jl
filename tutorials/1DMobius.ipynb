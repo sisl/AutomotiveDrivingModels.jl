{
 "cells": [
  {
   "cell_type": "markdown",
   "metadata": {},
   "source": [
    "# Driving on a Mobius Strip\n",
    "\n",
    "AutomotiveDrivingModels is templated to efficiently run different types of simulations.\n",
    "Entities are parameterized by their:\n",
    "\n",
    "- *S* state, which changes over time\n",
    "- *D* defintion, which does not change over time\n",
    "- *I* id, typically an `Int`, which uniquely identifies that entity.\n",
    "\n",
    "In addition to these types, the actions, environment and the driver models can also be parameterized.\n",
    "\n",
    "This notebook demonstrates a longitudinal driving simulation where cars drive on a single straight lane that loops back on itself.\n",
    "The types are:\n",
    "\n",
    "- *S* - `State1D`, containing the position and speed\n",
    "- *D* - `VehicleDef`, containing length, width, and class\n",
    "- *I* - `Int`\n",
    "\n",
    "We use a `StraightRoadway` as our environment and `LaneFollowingDriver`s that produce `LaneFollowingAccel`s.\n"
   ]
  },
  {
   "cell_type": "code",
   "execution_count": 3,
   "metadata": {},
   "outputs": [
    {
     "name": "stderr",
     "output_type": "stream",
     "text": [
      "┌ Info: Precompiling AutoViz [82aa6e0c-a491-5edf-8d4b-c16b98e4ea17]\n",
      "└ @ Base loading.jl:1273\n"
     ]
    }
   ],
   "source": [
    "using AutomotiveDrivingModels\n",
    "using AutoViz"
   ]
  },
  {
   "cell_type": "code",
   "execution_count": 8,
   "metadata": {},
   "outputs": [
    {
     "ename": "MethodError",
     "evalue": "MethodError: no method matching posg(::State1D)\nClosest candidates are:\n  posg(!Matched::VehicleState) at C:\\Users\\Maxime\\.julia\\dev\\AutomotiveDrivingModels\\src\\states\\vehicle_state.jl:29\n  posg(!Matched::Frenet, !Matched::Roadway) at C:\\Users\\Maxime\\.julia\\dev\\AutomotiveDrivingModels\\src\\roadways\\frenet.jl:59\n  posg(!Matched::Entity) at C:\\Users\\Maxime\\.julia\\dev\\AutomotiveDrivingModels\\src\\states\\vehicle_state.jl:35",
     "output_type": "error",
     "traceback": [
      "MethodError: no method matching posg(::State1D)\nClosest candidates are:\n  posg(!Matched::VehicleState) at C:\\Users\\Maxime\\.julia\\dev\\AutomotiveDrivingModels\\src\\states\\vehicle_state.jl:29\n  posg(!Matched::Frenet, !Matched::Roadway) at C:\\Users\\Maxime\\.julia\\dev\\AutomotiveDrivingModels\\src\\roadways\\frenet.jl:59\n  posg(!Matched::Entity) at C:\\Users\\Maxime\\.julia\\dev\\AutomotiveDrivingModels\\src\\states\\vehicle_state.jl:35",
      "",
      "Stacktrace:",
      " [1] add_renderable!(::RenderModel, ::FancyCar{RGB{Float64},State1D,VehicleDef,Int64}) at C:\\Users\\Maxime\\.julia\\packages\\AutoViz\\BF4X6\\src\\renderable.jl:115",
      " [2] add_renderable!(::RenderModel, ::Entity{State1D,VehicleDef,Int64}, ::RGB{Float64}) at C:\\Users\\Maxime\\.julia\\packages\\AutoViz\\BF4X6\\src\\renderable.jl:150",
      " [3] add_renderable!(::RenderModel, ::Entity{State1D,VehicleDef,Int64}) at C:\\Users\\Maxime\\.julia\\packages\\AutoViz\\BF4X6\\src\\renderable.jl:148",
      " [4] add_renderable!(::RenderModel, ::Frame{Entity{State1D,VehicleDef,Int64}}) at C:\\Users\\Maxime\\.julia\\packages\\AutoViz\\BF4X6\\src\\renderable.jl:165",
      " [5] #render#23(::StaticCamera, ::Cairo.CairoSurfaceIOStream{UInt32}, ::typeof(render), ::Array{Any,1}) at C:\\Users\\Maxime\\.julia\\packages\\AutoViz\\BF4X6\\src\\rendermodels.jl:58",
      " [6] (::AutoViz.var\"#kw##render\")(::NamedTuple{(:camera,),Tuple{StaticCamera}}, ::typeof(render), ::Array{Any,1}) at .\\none:0",
      " [7] top-level scope at In[8]:10"
     ]
    }
   ],
   "source": [
    "road_length = 200.0 # [meters]\n",
    "roadway = StraightRoadway(road_length)\n",
    "\n",
    "scene = Scene1D()\n",
    "push!(scene, Entity(State1D(10.0,  8.0), VehicleDef(), 1))\n",
    "push!(scene, Entity(State1D(50.0, 12.5), VehicleDef(), 2))\n",
    "push!(scene, Entity(State1D(150.0, 6.0), VehicleDef(), 3))\n",
    "\n",
    "cam = StaticCamera(position=VecE2(100.0,0.0), zoom=4.75, canvas_height=100)\n",
    "render([roadway, scene], camera=cam)"
   ]
  },
  {
   "cell_type": "markdown",
   "metadata": {},
   "source": [
    "We can add an overlay that displays the car id for convenience:"
   ]
  },
  {
   "cell_type": "code",
   "execution_count": 3,
   "metadata": {},
   "outputs": [
    {
     "data": {
      "image/png": "[encoded data removed]",
      "text/plain": [
       "Cairo.CairoSurfaceIOStream{UInt32}(Ptr{Nothing} @0x00000000240bba80, 1000.0, 100.0, IOBuffer(data=UInt8[...], readable=true, writable=true, seekable=true, append=false, size=0, maxsize=Inf, ptr=1, mark=-1))"
      ]
     },
     "execution_count": 3,
     "metadata": {},
     "output_type": "execute_result"
    }
   ],
   "source": [
    "overlays = [TextOverlay(text=[\"$(veh.id)\"], incameraframe=true, pos=VecE2(veh.state.s-0.7, 3)) for veh in scene]\n",
    "render(scene, roadway, overlays, cam=cam, canvas_height=100)"
   ]
  },
  {
   "cell_type": "markdown",
   "metadata": {},
   "source": [
    "Or we can create a new `SceneOverlay` which does this for us:"
   ]
  },
  {
   "cell_type": "code",
   "execution_count": 4,
   "metadata": {},
   "outputs": [
    {
     "data": {
      "image/png": "[encoded data removed]",
      "text/plain": [
       "Cairo.CairoSurfaceIOStream{UInt32}(Ptr{Nothing} @0x00000000240bb1e0, 1000.0, 100.0, IOBuffer(data=UInt8[...], readable=true, writable=true, seekable=true, append=false, size=0, maxsize=Inf, ptr=1, mark=-1))"
      ]
     },
     "execution_count": 4,
     "metadata": {},
     "output_type": "execute_result"
    }
   ],
   "source": [
    "using Parameters\n",
    "@with_kw struct CarIDOverlay <: SceneOverlay\n",
    "    textparams::TextParams=TextParams()\n",
    "end\n",
    "function AutoViz.render!(rendermodel::RenderModel, overlay::CarIDOverlay, scene::Scene1D, roadway::StraightRoadway)\n",
    "    for veh in scene\n",
    "        x = veh.state.s - 0.7\n",
    "        y = 3.0\n",
    "        text = string(veh.id)\n",
    "        add_instruction!(rendermodel, render_text, (text, x, y, overlay.textparams.size, overlay.textparams.color), incameraframe=true)\n",
    "    end\n",
    "    return rendermodel\n",
    "end\n",
    "\n",
    "render(scene, roadway, [CarIDOverlay()], cam=cam, canvas_height=100)"
   ]
  },
  {
   "cell_type": "markdown",
   "metadata": {},
   "source": [
    "To run a simulation we need driving models that produce actions.\n",
    "For this we will use `LaneFollowingDriver`s that produce `LaneFollowingAccel`s.\n",
    "We will give each car a different model, as a demonstration."
   ]
  },
  {
   "cell_type": "code",
   "execution_count": 5,
   "metadata": {},
   "outputs": [
    {
     "data": {
      "image/png": "[encoded data removed]",
      "text/plain": [
       "Cairo.CairoSurfaceIOStream{UInt32}(Ptr{Nothing} @0x00000000240bc040, 1000.0, 100.0, IOBuffer(data=UInt8[...], readable=true, writable=true, seekable=true, append=false, size=0, maxsize=Inf, ptr=1, mark=-1))"
      ]
     },
     "execution_count": 5,
     "metadata": {},
     "output_type": "execute_result"
    }
   ],
   "source": [
    "models = Dict{Int, LaneFollowingDriver}()\n",
    "models[1] = StaticLaneFollowingDriver(0.0) # always produce zero acceleration\n",
    "models[2] = IntelligentDriverModel(v_des=12.0) # default IDM with a desired speed of 12 m/s\n",
    "models[3] = PrincetonDriver(v_des = 10.0) # default Princeton driver with a desired speed of 10m/s\n",
    "\n",
    "nticks = 100\n",
    "timestep = 0.1\n",
    "scenes = simulate!(scene, roadway, models, nticks, timestep)\n",
    "render(last(scenes), roadway, [CarIDOverlay()], cam=cam, canvas_height=100)"
   ]
  },
  {
   "cell_type": "markdown",
   "metadata": {},
   "source": [
    "We can use Interact to inspect the simulation."
   ]
  },
  {
   "cell_type": "code",
   "execution_count": 7,
   "metadata": {},
   "outputs": [
    {
     "data": {
      "application/vnd.webio.node+json": {
       "children": [
        {
         "children": [
          {
           "children": [
            {
             "children": [
              {
               "children": [
                {
                 "children": [
                  "step"
                 ],
                 "instanceArgs": {
                  "namespace": "html",
                  "tag": "label"
                 },
                 "nodeType": "DOM",
                 "props": {
                  "className": "interact ",
                  "style": {
                   "padding": "5px 10px 0px 10px"
                  }
                 },
                 "type": "node"
                }
               ],
               "instanceArgs": {
                "namespace": "html",
                "tag": "div"
               },
               "nodeType": "DOM",
               "props": {
                "className": "interact-flex-row-left"
               },
               "type": "node"
              },
              {
               "children": [
                {
                 "children": [],
                 "instanceArgs": {
                  "namespace": "html",
                  "tag": "input"
                 },
                 "nodeType": "DOM",
                 "props": {
                  "attributes": {
                   "data-bind": "numericValue: index, valueUpdate: 'input', event: {change: function (){this.changes(this.changes()+1)}}",
                   "orient": "horizontal",
                   "type": "range"
                  },
                  "className": "slider slider is-fullwidth",
                  "max": 101,
                  "min": 1,
                  "step": 1,
                  "style": {}
                 },
                 "type": "node"
                }
               ],
               "instanceArgs": {
                "namespace": "html",
                "tag": "div"
               },
               "nodeType": "DOM",
               "props": {
                "className": "interact-flex-row-center"
               },
               "type": "node"
              },
              {
               "children": [
                {
                 "children": [],
                 "instanceArgs": {
                  "namespace": "html",
                  "tag": "p"
                 },
                 "nodeType": "DOM",
                 "props": {
                  "attributes": {
                   "data-bind": "text: formatted_val"
                  }
                 },
                 "type": "node"
                }
               ],
               "instanceArgs": {
                "namespace": "html",
                "tag": "div"
               },
               "nodeType": "DOM",
               "props": {
                "className": "interact-flex-row-right"
               },
               "type": "node"
              }
             ],
             "instanceArgs": {
              "namespace": "html",
              "tag": "div"
             },
             "nodeType": "DOM",
             "props": {
              "className": "interact-flex-row interact-widget"
             },
             "type": "node"
            }
           ],
           "instanceArgs": {
            "handlers": {
             "changes": [
              "(function (val){return (val!=this.model[\"changes\"]()) ? (this.valueFromJulia[\"changes\"]=true, this.model[\"changes\"](val)) : undefined})"
             ],
             "index": [
              "(function (val){return (val!=this.model[\"index\"]()) ? (this.valueFromJulia[\"index\"]=true, this.model[\"index\"](val)) : undefined})"
             ]
            },
            "id": "2014074109729369563",
            "imports": {
             "data": [
              {
               "name": "knockout",
               "type": "js",
               "url": "/assetserver/d033fda28de5fdb7c6d90919cbd6683e73bd443b-knockout.js"
              },
              {
               "name": "knockout_punches",
               "type": "js",
               "url": "/assetserver/c4515e462c6c31b06468a38b24d65546d76a0006-knockout_punches.js"
              },
              {
               "name": null,
               "type": "js",
               "url": "/assetserver/7160a783468b386025b3685c9691df17912ec29b-all.js"
              },
              {
               "name": null,
               "type": "css",
               "url": "/assetserver/c92112051a0a0326d397440da1a873f367f1d175-style.css"
              },
              {
               "name": null,
               "type": "css",
               "url": "/assetserver/755919ab5089275528f8a583d9fba4e0adcae551-bulma_confined.min.css"
              }
             ],
             "type": "async_block"
            },
            "mount_callbacks": [
             "function () {\n    var handler = (function (ko, koPunches) {\n    ko.punches.enableAll();\n    ko.bindingHandlers.numericValue = {\n        init: function(element, valueAccessor, allBindings, data, context) {\n            var stringified = ko.observable(ko.unwrap(valueAccessor()));\n            stringified.subscribe(function(value) {\n                var val = parseFloat(value);\n                if (!isNaN(val)) {\n                    valueAccessor()(val);\n                }\n            });\n            valueAccessor().subscribe(function(value) {\n                var str = JSON.stringify(value);\n                if ((str == \"0\") && ([\"-0\", \"-0.\"].indexOf(stringified()) >= 0))\n                     return;\n                 if ([\"null\", \"\"].indexOf(str) >= 0)\n                     return;\n                stringified(str);\n            });\n            ko.applyBindingsToNode(\n                element,\n                {\n                    value: stringified,\n                    valueUpdate: allBindings.get('valueUpdate'),\n                },\n                context,\n            );\n        }\n    };\n    var json_data = {\"formatted_vals\":[\"1\",\"2\",\"3\",\"4\",\"5\",\"6\",\"7\",\"8\",\"9\",\"10\",\"11\",\"12\",\"13\",\"14\",\"15\",\"16\",\"17\",\"18\",\"19\",\"20\",\"21\",\"22\",\"23\",\"24\",\"25\",\"26\",\"27\",\"28\",\"29\",\"30\",\"31\",\"32\",\"33\",\"34\",\"35\",\"36\",\"37\",\"38\",\"39\",\"40\",\"41\",\"42\",\"43\",\"44\",\"45\",\"46\",\"47\",\"48\",\"49\",\"50\",\"51\",\"52\",\"53\",\"54\",\"55\",\"56\",\"57\",\"58\",\"59\",\"60\",\"61\",\"62\",\"63\",\"64\",\"65\",\"66\",\"67\",\"68\",\"69\",\"70\",\"71\",\"72\",\"73\",\"74\",\"75\",\"76\",\"77\",\"78\",\"79\",\"80\",\"81\",\"82\",\"83\",\"84\",\"85\",\"86\",\"87\",\"88\",\"89\",\"90\",\"91\",\"92\",\"93\",\"94\",\"95\",\"96\",\"97\",\"98\",\"99\",\"100\",\"101\"],\"changes\":WebIO.getval({\"name\":\"changes\",\"scope\":\"2014074109729369563\",\"id\":\"ob_10\",\"type\":\"observable\"}),\"index\":WebIO.getval({\"name\":\"index\",\"scope\":\"2014074109729369563\",\"id\":\"ob_09\",\"type\":\"observable\"})};\n    var self = this;\n    function AppViewModel() {\n        for (var key in json_data) {\n            var el = json_data[key];\n            this[key] = Array.isArray(el) ? ko.observableArray(el) : ko.observable(el);\n        }\n        \n        [this[\"formatted_val\"]=ko.computed(    function(){\n        return this.formatted_vals()[parseInt(this.index())-(1)];\n    }\n,this)]\n        [this[\"changes\"].subscribe((function (val){!(this.valueFromJulia[\"changes\"]) ? (WebIO.setval({\"name\":\"changes\",\"scope\":\"2014074109729369563\",\"id\":\"ob_10\",\"type\":\"observable\"},val)) : undefined; return this.valueFromJulia[\"changes\"]=false}),self),this[\"index\"].subscribe((function (val){!(this.valueFromJulia[\"index\"]) ? (WebIO.setval({\"name\":\"index\",\"scope\":\"2014074109729369563\",\"id\":\"ob_09\",\"type\":\"observable\"},val)) : undefined; return this.valueFromJulia[\"index\"]=false}),self)]\n        \n    }\n    self.model = new AppViewModel();\n    self.valueFromJulia = {};\n    for (var key in json_data) {\n        self.valueFromJulia[key] = false;\n    }\n    ko.applyBindings(self.model, self.dom);\n}\n);\n    (WebIO.importBlock({\"data\":[{\"name\":\"knockout\",\"type\":\"js\",\"url\":\"/assetserver/d033fda28de5fdb7c6d90919cbd6683e73bd443b-knockout.js\"},{\"name\":\"knockout_punches\",\"type\":\"js\",\"url\":\"/assetserver/c4515e462c6c31b06468a38b24d65546d76a0006-knockout_punches.js\"}],\"type\":\"async_block\"})).then((imports) => handler.apply(this, imports));\n}\n"
            ],
            "observables": {
             "changes": {
              "id": "ob_10",
              "sync": false,
              "value": 0
             },
             "index": {
              "id": "ob_09",
              "sync": true,
              "value": 51
             }
            },
            "systemjs_options": null
           },
           "nodeType": "Scope",
           "props": {},
           "type": "node"
          }
         ],
         "instanceArgs": {
          "namespace": "html",
          "tag": "div"
         },
         "nodeType": "DOM",
         "props": {
          "className": "field interact-widget"
         },
         "type": "node"
        },
        {
         "children": [
          {
           "children": [],
           "instanceArgs": {
            "id": "ob_16",
            "name": "obs-node"
           },
           "nodeType": "ObservableNode",
           "props": {},
           "type": "node"
          }
         ],
         "instanceArgs": {
          "handlers": {},
          "id": "4004751049540163301",
          "imports": {
           "data": [],
           "type": "async_block"
          },
          "mount_callbacks": [],
          "observables": {
           "obs-node": {
            "id": "ob_16",
            "sync": false,
            "value": {
             "children": [
              {
               "children": [],
               "instanceArgs": {
                "namespace": "html",
                "tag": "div"
               },
               "nodeType": "DOM",
               "props": {
                "setInnerHtml": "<img src='data:image/png;base64,iVBORw0KGgoAAAANSUhEUgAAA+gAAABkCAYAAAAVORraAAAABmJLR0QA/wD/AP+gvaeTAAAHwklEQVR4nO3dS2xcZxkG4PfMHI+viZ2mSR0nTUopICREKwGtUKE3sSiXUrFhhdizgwXskJBgQcUG2FUCUYHEAokKhBALxCJISFwiKKUtLVUhFydpU9vx+DK253ZYJC2BpC1t44xjP89qFsfS+2/e+X+fc+ZLAAAAAAAAAAAAAAAAAAAAAAAAAAAAAAAAAAAAAAAAAAAAAAAAAAAAAAAAAAAAAAAAAAAAAAAAAAAAAAAAAAAAAAAAAAAAAAAAAAAAAAAAAAAAAAAAAAAAAAAAAAAAAAAAAAAAAAAAAADgulQMOgCw9VRVVRVFoR+Aq6aqquqVz/oFYHvR8QCbpLpo0DmA7eN/O0XHAGwfOh5gk7xSqIoV2Ew6BmD70vFvT23QAYCtwyNJAAAAsIX4zyewWfQLwPbkNUmATaJcgc2iXwC2Nz3/9njEHQC4JkyIAIDX54AOAGw6h3OA7ckd86vLFyVwGRtp4Gq60uZNxwBsH+agAwAAAAAAAAAAAAAAAAAAAAAAAAAAAACwOYonnnzqkUGHAAAAgJ2u/NXRY18ZdAgAAADY6cqX5hcHnQEAAAB2vNqgAwBbU2dlORsL/oEHXF2rs2cGHQGATdJeWkl7sTnoGNe1ctABgGtrY24+E8dOZfrFdvatlGlUtbSLfhbK9fTKenrFhevq3V5uWxnNiT391KoqB5eGUiU5s7uTp+7Zl5F3HRnoOoCtZe1vz2f6H83sn69yw0aZoiqyVHbSqnfTLv9zP+DWhXrOTJ1J6kVG20VmVofSHOrl2YPdzH/qfRkaHhngKgC4kvW5+ew6dirTZzvZt1JPI7V0in7my/V0y3r6F/ePZaeXd7RGc2rqv/ePp3d38/S9+zNy280DXcf1wAEddpiP/ehUPtM8nCRZqLUyV2/n6NjpnCqaGe2WGauGsqfXyMHuRJ5rLObcRit3r07n/rXptKu1nG/1c/jxl/Pj+85l+q4PDXg1wFbQOjmb7/x0KsPZm36qHBt5MTO9XfnB5LOZ77eyvzOeoX49h3sTadU7WWyvpF308vnF92R/bywLRTP3LY3nW2d/ne4XHky9PjToJQFwiQd/OJtPL13YP87VVnK+3s1vxmYzWyxltDeUsX6ZPb3hTHdH81zjfOY21nLP6kzuubh/XGz1c+jxl/KT+87lpjs/MODVbG0O6LDDHF4bycv1tXz5wO9zorGcTywdzpfn7rjsuscmn83Pp44nSZ4Ync9dszdltBrOWLWWD7dncvoPx/PcXdc4PLAllcfnM5yb87Nd/8qjNzyT1Xo33z19d74698HLrv3czb/JyaGVJMlIVeaL8+/P7mo8rVonX1q6I984+teMPXD53wEwOEfWxvJi2cpXpn+fk42VPNw8ki/N337Zdd+f+nt+MXUiSfLk6ELuPLU/jQxnpFrPRzZmMvvH43nhzmud/vriHXTYYXb1G/nt+Nn8s7GUXqp0i/4Vr6su+bxW6+X5cjG7+8OZ6U5lT284d6xOXZvAwJY3vHahR345cSKr9W6SvGa3XOrZxvmM9cvc0B/Noe7u3NgZyaGzvU3NCsCbU/X72dUvc3TsTI43ltNPlc7/0fGrtW5eKJuZ7A/nYHcyU73h3L4yeQ0SX98c0GEHqt74EoA3rSiKQUcAYJO8lf2j74U3zwEddpjlWjv3rh7Ire3dqadIWV25Bi6t07F+mXd392S5tpEzZTPn6xv5y/jStQkMbHkboxd65JPLRzLeu/D23Gt1y6Xe296TVq2bhdpaZsulnCvXcupAfVOzAvDmFLValmvd3N86mFvau1J7nf3jpcZ7ZW7t7E6ztpHTZTOL9Y38dcKEoDfiHXTYYU6MrecDi/vz2Oz9Wai18nK9ne9NPpPnGosZrf7zI3Ez3fE83DySc+VaPtI6kJGqTDtraRVV/jJ0NkfvKnNg0IsBtoTuLXuzkV4eXr4lDy0fyR+Gz+bG/ki+vvdY5otW9mc8Zb+WI71d+fjSzflXYzmdopfPNm9Lt6jSLFYynol8c/LPGbn3wUEvB4D/cWK0lduX9uaHsw9kvraShXovj04+nRcazYxmKKP9evb0hjPTnchDzcOZK9dzT2smwynTyVrWiyp/apzO7+4cyfSgF7PFFV/82rc97Qo7yMbcQsaPncz0i53sX6m/OmatWbbTKYt0X2PM2sxSmSpFTk928vRH92XUmDXgEq+MWds3X2XvxTFry2Un6/V+1i65HXBhzFoujllLZlYbaQ5188yhXs5/0pg1gK1o/ZUxvWfb2bdaZri6MGZtsWynXRavjum90pi1fpLTk508c+9NGXmnMWtvxAEduKLOynL67V6Gb/BjcMDVszp7JuOHZgYdA4BN0F5aSfq9NKb8GNxb5RF34IqGJnYNOgKwDTmcA2xfjd0Tg45w3Stv2uvuGAAAAAxa8cSTTz0y6BAAAAAAAAAAAAAAAAAAAAAAAAAAAAAAAAAAAAAAAAAAAAAAAAAAAAAAAAAAAAAAAAAAAAAAAAAAAAAAAAAAAAAAAAAAAAAAAAAAAAAAAAAAAAAAAAAAAAAAAAAAAAAAAAAAAAAAAAAAAAAAAAAAAAAAAAAAAAAAAAAAAAAAAAAAAAAAAAAAAAAAAAAAAAAAAAAAAAAAAAAAAAAAAAAAAAAAAAAAAAAAcPX9G9XGivPTGsxlAAAAAElFTkSuQmCC'></img>"
               },
               "type": "node"
              }
             ],
             "instanceArgs": {
              "namespace": "html",
              "tag": "div"
             },
             "nodeType": "DOM",
             "props": {
              "className": "interact-flex-row interact-widget"
             },
             "type": "node"
            }
           }
          },
          "systemjs_options": null
         },
         "nodeType": "Scope",
         "props": {},
         "type": "node"
        }
       ],
       "instanceArgs": {
        "namespace": "html",
        "tag": "div"
       },
       "nodeType": "DOM",
       "props": {},
       "type": "node"
      },
      "text/html": [
       "<div\n",
       "    class=\"webio-mountpoint\"\n",
       "    data-webio-mountpoint=\"11374538000032042249\"\n",
       ">\n",
       "    <script>\n",
       "    if (window.require && require.defined && require.defined(\"nbextensions/webio-jupyter-notebook\")) {\n",
       "        console.log(\"Jupyter WebIO extension detected, not mounting.\");\n",
       "    } else if (window.WebIO) {\n",
       "        WebIO.mount(\n",
       "            document.querySelector('[data-webio-mountpoint=\"11374538000032042249\"]'),\n",
       "            {\"props\":{},\"nodeType\":\"DOM\",\"type\":\"node\",\"instanceArgs\":{\"namespace\":\"html\",\"tag\":\"div\"},\"children\":[{\"props\":{\"className\":\"field interact-widget\"},\"nodeType\":\"DOM\",\"type\":\"node\",\"instanceArgs\":{\"namespace\":\"html\",\"tag\":\"div\"},\"children\":[{\"props\":{},\"nodeType\":\"Scope\",\"type\":\"node\",\"instanceArgs\":{\"imports\":{\"data\":[{\"name\":\"knockout\",\"type\":\"js\",\"url\":\"\\/assetserver\\/d033fda28de5fdb7c6d90919cbd6683e73bd443b-knockout.js\"},{\"name\":\"knockout_punches\",\"type\":\"js\",\"url\":\"\\/assetserver\\/c4515e462c6c31b06468a38b24d65546d76a0006-knockout_punches.js\"},{\"name\":null,\"type\":\"js\",\"url\":\"\\/assetserver\\/7160a783468b386025b3685c9691df17912ec29b-all.js\"},{\"name\":null,\"type\":\"css\",\"url\":\"\\/assetserver\\/c92112051a0a0326d397440da1a873f367f1d175-style.css\"},{\"name\":null,\"type\":\"css\",\"url\":\"\\/assetserver\\/755919ab5089275528f8a583d9fba4e0adcae551-bulma_confined.min.css\"}],\"type\":\"async_block\"},\"id\":\"2014074109729369563\",\"handlers\":{\"changes\":[\"(function (val){return (val!=this.model[\\\"changes\\\"]()) ? (this.valueFromJulia[\\\"changes\\\"]=true, this.model[\\\"changes\\\"](val)) : undefined})\"],\"index\":[\"(function (val){return (val!=this.model[\\\"index\\\"]()) ? (this.valueFromJulia[\\\"index\\\"]=true, this.model[\\\"index\\\"](val)) : undefined})\"]},\"systemjs_options\":null,\"mount_callbacks\":[\"function () {\\n    var handler = (function (ko, koPunches) {\\n    ko.punches.enableAll();\\n    ko.bindingHandlers.numericValue = {\\n        init: function(element, valueAccessor, allBindings, data, context) {\\n            var stringified = ko.observable(ko.unwrap(valueAccessor()));\\n            stringified.subscribe(function(value) {\\n                var val = parseFloat(value);\\n                if (!isNaN(val)) {\\n                    valueAccessor()(val);\\n                }\\n            });\\n            valueAccessor().subscribe(function(value) {\\n                var str = JSON.stringify(value);\\n                if ((str == \\\"0\\\") && ([\\\"-0\\\", \\\"-0.\\\"].indexOf(stringified()) >= 0))\\n                     return;\\n                 if ([\\\"null\\\", \\\"\\\"].indexOf(str) >= 0)\\n                     return;\\n                stringified(str);\\n            });\\n            ko.applyBindingsToNode(\\n                element,\\n                {\\n                    value: stringified,\\n                    valueUpdate: allBindings.get('valueUpdate'),\\n                },\\n                context,\\n            );\\n        }\\n    };\\n    var json_data = {\\\"formatted_vals\\\":[\\\"1\\\",\\\"2\\\",\\\"3\\\",\\\"4\\\",\\\"5\\\",\\\"6\\\",\\\"7\\\",\\\"8\\\",\\\"9\\\",\\\"10\\\",\\\"11\\\",\\\"12\\\",\\\"13\\\",\\\"14\\\",\\\"15\\\",\\\"16\\\",\\\"17\\\",\\\"18\\\",\\\"19\\\",\\\"20\\\",\\\"21\\\",\\\"22\\\",\\\"23\\\",\\\"24\\\",\\\"25\\\",\\\"26\\\",\\\"27\\\",\\\"28\\\",\\\"29\\\",\\\"30\\\",\\\"31\\\",\\\"32\\\",\\\"33\\\",\\\"34\\\",\\\"35\\\",\\\"36\\\",\\\"37\\\",\\\"38\\\",\\\"39\\\",\\\"40\\\",\\\"41\\\",\\\"42\\\",\\\"43\\\",\\\"44\\\",\\\"45\\\",\\\"46\\\",\\\"47\\\",\\\"48\\\",\\\"49\\\",\\\"50\\\",\\\"51\\\",\\\"52\\\",\\\"53\\\",\\\"54\\\",\\\"55\\\",\\\"56\\\",\\\"57\\\",\\\"58\\\",\\\"59\\\",\\\"60\\\",\\\"61\\\",\\\"62\\\",\\\"63\\\",\\\"64\\\",\\\"65\\\",\\\"66\\\",\\\"67\\\",\\\"68\\\",\\\"69\\\",\\\"70\\\",\\\"71\\\",\\\"72\\\",\\\"73\\\",\\\"74\\\",\\\"75\\\",\\\"76\\\",\\\"77\\\",\\\"78\\\",\\\"79\\\",\\\"80\\\",\\\"81\\\",\\\"82\\\",\\\"83\\\",\\\"84\\\",\\\"85\\\",\\\"86\\\",\\\"87\\\",\\\"88\\\",\\\"89\\\",\\\"90\\\",\\\"91\\\",\\\"92\\\",\\\"93\\\",\\\"94\\\",\\\"95\\\",\\\"96\\\",\\\"97\\\",\\\"98\\\",\\\"99\\\",\\\"100\\\",\\\"101\\\"],\\\"changes\\\":WebIO.getval({\\\"name\\\":\\\"changes\\\",\\\"scope\\\":\\\"2014074109729369563\\\",\\\"id\\\":\\\"ob_10\\\",\\\"type\\\":\\\"observable\\\"}),\\\"index\\\":WebIO.getval({\\\"name\\\":\\\"index\\\",\\\"scope\\\":\\\"2014074109729369563\\\",\\\"id\\\":\\\"ob_09\\\",\\\"type\\\":\\\"observable\\\"})};\\n    var self = this;\\n    function AppViewModel() {\\n        for (var key in json_data) {\\n            var el = json_data[key];\\n            this[key] = Array.isArray(el) ? ko.observableArray(el) : ko.observable(el);\\n        }\\n        \\n        [this[\\\"formatted_val\\\"]=ko.computed(    function(){\\n        return this.formatted_vals()[parseInt(this.index())-(1)];\\n    }\\n,this)]\\n        [this[\\\"changes\\\"].subscribe((function (val){!(this.valueFromJulia[\\\"changes\\\"]) ? (WebIO.setval({\\\"name\\\":\\\"changes\\\",\\\"scope\\\":\\\"2014074109729369563\\\",\\\"id\\\":\\\"ob_10\\\",\\\"type\\\":\\\"observable\\\"},val)) : undefined; return this.valueFromJulia[\\\"changes\\\"]=false}),self),this[\\\"index\\\"].subscribe((function (val){!(this.valueFromJulia[\\\"index\\\"]) ? (WebIO.setval({\\\"name\\\":\\\"index\\\",\\\"scope\\\":\\\"2014074109729369563\\\",\\\"id\\\":\\\"ob_09\\\",\\\"type\\\":\\\"observable\\\"},val)) : undefined; return this.valueFromJulia[\\\"index\\\"]=false}),self)]\\n        \\n    }\\n    self.model = new AppViewModel();\\n    self.valueFromJulia = {};\\n    for (var key in json_data) {\\n        self.valueFromJulia[key] = false;\\n    }\\n    ko.applyBindings(self.model, self.dom);\\n}\\n);\\n    (WebIO.importBlock({\\\"data\\\":[{\\\"name\\\":\\\"knockout\\\",\\\"type\\\":\\\"js\\\",\\\"url\\\":\\\"\\/assetserver\\/d033fda28de5fdb7c6d90919cbd6683e73bd443b-knockout.js\\\"},{\\\"name\\\":\\\"knockout_punches\\\",\\\"type\\\":\\\"js\\\",\\\"url\\\":\\\"\\/assetserver\\/c4515e462c6c31b06468a38b24d65546d76a0006-knockout_punches.js\\\"}],\\\"type\\\":\\\"async_block\\\"})).then((imports) => handler.apply(this, imports));\\n}\\n\"],\"observables\":{\"changes\":{\"sync\":false,\"id\":\"ob_10\",\"value\":0},\"index\":{\"sync\":true,\"id\":\"ob_09\",\"value\":51}}},\"children\":[{\"props\":{\"className\":\"interact-flex-row interact-widget\"},\"nodeType\":\"DOM\",\"type\":\"node\",\"instanceArgs\":{\"namespace\":\"html\",\"tag\":\"div\"},\"children\":[{\"props\":{\"className\":\"interact-flex-row-left\"},\"nodeType\":\"DOM\",\"type\":\"node\",\"instanceArgs\":{\"namespace\":\"html\",\"tag\":\"div\"},\"children\":[{\"props\":{\"className\":\"interact \",\"style\":{\"padding\":\"5px 10px 0px 10px\"}},\"nodeType\":\"DOM\",\"type\":\"node\",\"instanceArgs\":{\"namespace\":\"html\",\"tag\":\"label\"},\"children\":[\"step\"]}]},{\"props\":{\"className\":\"interact-flex-row-center\"},\"nodeType\":\"DOM\",\"type\":\"node\",\"instanceArgs\":{\"namespace\":\"html\",\"tag\":\"div\"},\"children\":[{\"props\":{\"max\":101,\"min\":1,\"attributes\":{\"type\":\"range\",\"data-bind\":\"numericValue: index, valueUpdate: 'input', event: {change: function (){this.changes(this.changes()+1)}}\",\"orient\":\"horizontal\"},\"step\":1,\"className\":\"slider slider is-fullwidth\",\"style\":{}},\"nodeType\":\"DOM\",\"type\":\"node\",\"instanceArgs\":{\"namespace\":\"html\",\"tag\":\"input\"},\"children\":[]}]},{\"props\":{\"className\":\"interact-flex-row-right\"},\"nodeType\":\"DOM\",\"type\":\"node\",\"instanceArgs\":{\"namespace\":\"html\",\"tag\":\"div\"},\"children\":[{\"props\":{\"attributes\":{\"data-bind\":\"text: formatted_val\"}},\"nodeType\":\"DOM\",\"type\":\"node\",\"instanceArgs\":{\"namespace\":\"html\",\"tag\":\"p\"},\"children\":[]}]}]}]}]},{\"props\":{},\"nodeType\":\"Scope\",\"type\":\"node\",\"instanceArgs\":{\"imports\":{\"data\":[],\"type\":\"async_block\"},\"id\":\"3952267094621515583\",\"handlers\":{},\"systemjs_options\":null,\"mount_callbacks\":[],\"observables\":{\"obs-node\":{\"sync\":false,\"id\":\"ob_14\",\"value\":{\"props\":{\"className\":\"interact-flex-row interact-widget\"},\"nodeType\":\"DOM\",\"type\":\"node\",\"instanceArgs\":{\"namespace\":\"html\",\"tag\":\"div\"},\"children\":[{\"props\":{\"setInnerHtml\":\"<img src='data:image\\/png;base64,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'><\\/img>\"},\"nodeType\":\"DOM\",\"type\":\"node\",\"instanceArgs\":{\"namespace\":\"html\",\"tag\":\"div\"},\"children\":[]}]}}}},\"children\":[{\"props\":{},\"nodeType\":\"ObservableNode\",\"type\":\"node\",\"instanceArgs\":{\"id\":\"ob_14\",\"name\":\"obs-node\"},\"children\":[]}]}]},\n",
       "            window,\n",
       "        );\n",
       "    } else {\n",
       "        document\n",
       "            .querySelector('[data-webio-mountpoint=\"11374538000032042249\"]')\n",
       "            .innerHTML = (\n",
       "                '<strong>WebIO not detected. Please read ' +\n",
       "                '<a href=\"https://juliagizmos.github.io/WebIO.jl/latest/troubleshooting/not-detected/\">the troubleshooting guide</a> ' +\n",
       "                'for more information on how to resolve this issue.' +\n",
       "                '</strong>'\n",
       "            );\n",
       "    }\n",
       "    </script>\n",
       "</div>\n"
      ],
      "text/plain": [
       "Node{WebIO.DOM}(WebIO.DOM(:html, :div), Any[Node{WebIO.DOM}(WebIO.DOM(:html, :div), Any[Scope(Node{WebIO.DOM}(WebIO.DOM(:html, :div), Any[Node{WebIO.DOM}(WebIO.DOM(:html, :div), Any[Node{WebIO.DOM}(WebIO.DOM(:html, :label), Any[\"step\"], Dict{Symbol,Any}(:className => \"interact \",:style => Dict{Any,Any}(:padding => \"5px 10px 0px 10px\")))], Dict{Symbol,Any}(:className => \"interact-flex-row-left\")), Node{WebIO.DOM}(WebIO.DOM(:html, :div), Any[Node{WebIO.DOM}(WebIO.DOM(:html, :input), Any[], Dict{Symbol,Any}(:max => 101,:min => 1,:attributes => Dict{Any,Any}(:type => \"range\",Symbol(\"data-bind\") => \"numericValue: index, valueUpdate: 'input', event: {change: function (){this.changes(this.changes()+1)}}\",\"orient\" => \"horizontal\"),:step => 1,:className => \"slider slider is-fullwidth\",:style => Dict{Any,Any}()))], Dict{Symbol,Any}(:className => \"interact-flex-row-center\")), Node{WebIO.DOM}(WebIO.DOM(:html, :div), Any[Node{WebIO.DOM}(WebIO.DOM(:html, :p), Any[], Dict{Symbol,Any}(:attributes => Dict(\"data-bind\" => \"text: formatted_val\")))], Dict{Symbol,Any}(:className => \"interact-flex-row-right\"))], Dict{Symbol,Any}(:className => \"interact-flex-row interact-widget\")), Dict{String,Tuple{Observables.AbstractObservable,Union{Nothing, Bool}}}(\"changes\" => (Observable{Int64} with 1 listeners. Value:\n",
       "0, nothing),\"index\" => (Observable{Int64} with 2 listeners. Value:\n",
       "51, nothing)), Set(String[]), nothing, Asset[Asset(\"js\", \"knockout\", \"C:\\\\Users\\\\Maxime\\\\.julia\\\\packages\\\\Knockout\\\\1sDlc\\\\src\\\\..\\\\assets\\\\knockout.js\"), Asset(\"js\", \"knockout_punches\", \"C:\\\\Users\\\\Maxime\\\\.julia\\\\packages\\\\Knockout\\\\1sDlc\\\\src\\\\..\\\\assets\\\\knockout_punches.js\"), Asset(\"js\", nothing, \"C:\\\\Users\\\\Maxime\\\\.julia\\\\packages\\\\InteractBase\\\\9mFwe\\\\src\\\\..\\\\assets\\\\all.js\"), Asset(\"css\", nothing, \"C:\\\\Users\\\\Maxime\\\\.julia\\\\packages\\\\InteractBase\\\\9mFwe\\\\src\\\\..\\\\assets\\\\style.css\"), Asset(\"css\", nothing, \"C:\\\\Users\\\\Maxime\\\\.julia\\\\packages\\\\Interact\\\\SbgIk\\\\src\\\\..\\\\assets\\\\bulma_confined.min.css\")], Dict{Any,Any}(\"changes\" => Any[WebIO.JSString(\"(function (val){return (val!=this.model[\\\"changes\\\"]()) ? (this.valueFromJulia[\\\"changes\\\"]=true, this.model[\\\"changes\\\"](val)) : undefined})\")],\"index\" => Any[WebIO.JSString(\"(function (val){return (val!=this.model[\\\"index\\\"]()) ? (this.valueFromJulia[\\\"index\\\"]=true, this.model[\\\"index\\\"](val)) : undefined})\")]), WebIO.ConnectionPool(Channel{Any}(sz_max:32,sz_curr:0), Set(AbstractConnection[]), Base.GenericCondition{Base.AlwaysLockedST}(Base.InvasiveLinkedList{Task}(Task (runnable) @0x00000000110f1cd0, Task (runnable) @0x00000000110f1cd0), Base.AlwaysLockedST(1))), WebIO.JSString[WebIO.JSString(\"function () {\\n    var handler = (function (ko, koPunches) {\\n    ko.punches.enableAll();\\n    ko.bindingHandlers.numericValue = {\\n        init: function(element, valueAccessor, allBindings, data, context) {\\n            var stringified = ko.observable(ko.unwrap(valueAccessor()));\\n            stringified.subscribe(function(value) {\\n                var val = parseFloat(value);\\n                if (!isNaN(val)) {\\n                    valueAccessor()(val);\\n                }\\n            });\\n            valueAccessor().subscribe(function(value) {\\n                var str = JSON.stringify(value);\\n                if ((str == \\\"0\\\") && ([\\\"-0\\\", \\\"-0.\\\"].indexOf(stringified()) >= 0))\\n                     return;\\n                 if ([\\\"null\\\", \\\"\\\"].indexOf(str) >= 0)\\n                     return;\\n                stringified(str);\\n            });\\n            ko.applyBindingsToNode(\\n                element,\\n                {\\n                    value: stringified,\\n                    valueUpdate: allBindings.get('valueUpdate'),\\n                },\\n                context,\\n            );\\n        }\\n    };\\n    var json_data = {\\\"formatted_vals\\\":[\\\"1\\\",\\\"2\\\",\\\"3\\\",\\\"4\\\",\\\"5\\\",\\\"6\\\",\\\"7\\\",\\\"8\\\",\\\"9\\\",\\\"10\\\",\\\"11\\\",\\\"12\\\",\\\"13\\\",\\\"14\\\",\\\"15\\\",\\\"16\\\",\\\"17\\\",\\\"18\\\",\\\"19\\\",\\\"20\\\",\\\"21\\\",\\\"22\\\",\\\"23\\\",\\\"24\\\",\\\"25\\\",\\\"26\\\",\\\"27\\\",\\\"28\\\",\\\"29\\\",\\\"30\\\",\\\"31\\\",\\\"32\\\",\\\"33\\\",\\\"34\\\",\\\"35\\\",\\\"36\\\",\\\"37\\\",\\\"38\\\",\\\"39\\\",\\\"40\\\",\\\"41\\\",\\\"42\\\",\\\"43\\\",\\\"44\\\",\\\"45\\\",\\\"46\\\",\\\"47\\\",\\\"48\\\",\\\"49\\\",\\\"50\\\",\\\"51\\\",\\\"52\\\",\\\"53\\\",\\\"54\\\",\\\"55\\\",\\\"56\\\",\\\"57\\\",\\\"58\\\",\\\"59\\\",\\\"60\\\",\\\"61\\\",\\\"62\\\",\\\"63\\\",\\\"64\\\",\\\"65\\\",\\\"66\\\",\\\"67\\\",\\\"68\\\",\\\"69\\\",\\\"70\\\",\\\"71\\\",\\\"72\\\",\\\"73\\\",\\\"74\\\",\\\"75\\\",\\\"76\\\",\\\"77\\\",\\\"78\\\",\\\"79\\\",\\\"80\\\",\\\"81\\\",\\\"82\\\",\\\"83\\\",\\\"84\\\",\\\"85\\\",\\\"86\\\",\\\"87\\\",\\\"88\\\",\\\"89\\\",\\\"90\\\",\\\"91\\\",\\\"92\\\",\\\"93\\\",\\\"94\\\",\\\"95\\\",\\\"96\\\",\\\"97\\\",\\\"98\\\",\\\"99\\\",\\\"100\\\",\\\"101\\\"],\\\"changes\\\":WebIO.getval({\\\"name\\\":\\\"changes\\\",\\\"scope\\\":\\\"2014074109729369563\\\",\\\"id\\\":\\\"ob_10\\\",\\\"type\\\":\\\"observable\\\"}),\\\"index\\\":WebIO.getval({\\\"name\\\":\\\"index\\\",\\\"scope\\\":\\\"2014074109729369563\\\",\\\"id\\\":\\\"ob_09\\\",\\\"type\\\":\\\"observable\\\"})};\\n    var self = this;\\n    function AppViewModel() {\\n        for (var key in json_data) {\\n            var el = json_data[key];\\n            this[key] = Array.isArray(el) ? ko.observableArray(el) : ko.observable(el);\\n        }\\n        \\n        [this[\\\"formatted_val\\\"]=ko.computed(    function(){\\n        return this.formatted_vals()[parseInt(this.index())-(1)];\\n    }\\n,this)]\\n        [this[\\\"changes\\\"].subscribe((function (val){!(this.valueFromJulia[\\\"changes\\\"]) ? (WebIO.setval({\\\"name\\\":\\\"changes\\\",\\\"scope\\\":\\\"2014074109729369563\\\",\\\"id\\\":\\\"ob_10\\\",\\\"type\\\":\\\"observable\\\"},val)) : undefined; return this.valueFromJulia[\\\"changes\\\"]=false}),self),this[\\\"index\\\"].subscribe((function (val){!(this.valueFromJulia[\\\"index\\\"]) ? (WebIO.setval({\\\"name\\\":\\\"index\\\",\\\"scope\\\":\\\"2014074109729369563\\\",\\\"id\\\":\\\"ob_09\\\",\\\"type\\\":\\\"observable\\\"},val)) : undefined; return this.valueFromJulia[\\\"index\\\"]=false}),self)]\\n        \\n    }\\n    self.model = new AppViewModel();\\n    self.valueFromJulia = {};\\n    for (var key in json_data) {\\n        self.valueFromJulia[key] = false;\\n    }\\n    ko.applyBindings(self.model, self.dom);\\n}\\n);\\n    (WebIO.importBlock({\\\"data\\\":[{\\\"name\\\":\\\"knockout\\\",\\\"type\\\":\\\"js\\\",\\\"url\\\":\\\"/assetserver/d033fda28de5fdb7c6d90919cbd6683e73bd443b-knockout.js\\\"},{\\\"name\\\":\\\"knockout_punches\\\",\\\"type\\\":\\\"js\\\",\\\"url\\\":\\\"/assetserver/c4515e462c6c31b06468a38b24d65546d76a0006-knockout_punches.js\\\"}],\\\"type\\\":\\\"async_block\\\"})).then((imports) => handler.apply(this, imports));\\n}\\n\")])], Dict{Symbol,Any}(:className => \"field interact-widget\")), Observable{Any} with 0 listeners. Value:\n",
       "Node{WebIO.DOM}(WebIO.DOM(:html, :div), Any[Cairo.CairoSurfaceIOStream{UInt32}(Ptr{Nothing} @0x00000000021a7900, 1000.0, 100.0, IOBuffer(data=UInt8[...], readable=true, writable=true, seekable=true, append=false, size=0, maxsize=Inf, ptr=1, mark=-1))], Dict{Symbol,Any}(:className => \"interact-flex-row interact-widget\"))], Dict{Symbol,Any}())"
      ]
     },
     "execution_count": 7,
     "metadata": {
      "application/vnd.webio.node+json": {
       "kernelId": null
      }
     },
     "output_type": "execute_result"
    }
   ],
   "source": [
    "using Interact\n",
    "@manipulate for step in 1 : length(scenes)\n",
    "    render(scenes[step], roadway, [CarIDOverlay()], cam=cam, canvas_height=100)\n",
    "end"
   ]
  },
  {
   "cell_type": "code",
   "execution_count": null,
   "metadata": {},
   "outputs": [],
   "source": []
  }
 ],
 "metadata": {
  "@webio": {
   "lastCommId": null,
   "lastKernelId": null
  },
  "anaconda-cloud": {},
  "kernelspec": {
   "display_name": "Julia 1.3.0",
   "language": "julia",
   "name": "julia-1.3"
  },
  "language_info": {
   "file_extension": ".jl",
   "mimetype": "application/julia",
   "name": "julia",
   "version": "1.3.0"
  },
  "widgets": {
   "state": {
    "6289e1b5-1d81-4a28-9336-7f36ef1e29f5": {
     "views": [
      {
       "cell_index": 10
      }
     ]
    }
   },
   "version": "1.2.0"
  }
 },
 "nbformat": 4,
 "nbformat_minor": 2
}
