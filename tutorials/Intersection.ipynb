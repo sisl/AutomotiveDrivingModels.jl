{
 "cells": [
  {
   "cell_type": "markdown",
   "metadata": {},
   "source": [
    "# Intersection\n",
    "\n",
    "In this notebook we demonstrate how to define a T-shape intersection with AutomotiveDrivingModels.  You will also learn how to define your own custom action type and driver model type.\n"
   ]
  },
  {
   "cell_type": "code",
   "execution_count": 1,
   "metadata": {},
   "outputs": [],
   "source": [
    "using AutomotiveDrivingModels\n",
    "\n",
    "# All the functions related to visualization\n",
    "using AutoViz\n",
    "AutoViz.colortheme[\"background\"] = colorant\"white\"; # set the background color to white\n",
    "using Random # for RNGs"
   ]
  },
  {
   "cell_type": "markdown",
   "metadata": {},
   "source": [
    "## Generate a T-Shape intersection"
   ]
  },
  {
   "cell_type": "markdown",
   "metadata": {},
   "source": [
    "In order to generate the road network, one first initializes a Roadway object."
   ]
  },
  {
   "cell_type": "code",
   "execution_count": 2,
   "metadata": {},
   "outputs": [],
   "source": [
    "roadway = Roadway();"
   ]
  },
  {
   "cell_type": "code",
   "execution_count": 3,
   "metadata": {},
   "outputs": [
    {
     "data": {
      "text/plain": [
       "3-element VecSE2{Float64} with indices SOneTo(3):\n",
       " 13.0              \n",
       "  3.0              \n",
       " -3.141592653589793"
      ]
     },
     "execution_count": 3,
     "metadata": {},
     "output_type": "execute_result"
    }
   ],
   "source": [
    "# Define coordinates of the entry and exit points to the intersection\n",
    "r = 5.0 # turn radius\n",
    "A = VecSE2(0.0,DEFAULT_LANE_WIDTH,-π)\n",
    "B = VecSE2(0.0,0.0,0.0)\n",
    "C = VecSE2(r,-r,-π/2)\n",
    "D = VecSE2(r+DEFAULT_LANE_WIDTH,-r,π/2)\n",
    "E = VecSE2(2r+DEFAULT_LANE_WIDTH,0,0)\n",
    "F = VecSE2(2r+DEFAULT_LANE_WIDTH,DEFAULT_LANE_WIDTH,-π)"
   ]
  },
  {
   "cell_type": "markdown",
   "metadata": {},
   "source": [
    "The next step consists in appending all the lanes to the road network. We can define a helper function to add a new lane to the roadway."
   ]
  },
  {
   "cell_type": "code",
   "execution_count": 4,
   "metadata": {},
   "outputs": [
    {
     "data": {
      "text/plain": [
       "append_to_curve! (generic function with 1 method)"
      ]
     },
     "execution_count": 4,
     "metadata": {},
     "output_type": "execute_result"
    }
   ],
   "source": [
    "function append_to_curve!(target::Curve, newstuff::Curve)\n",
    "    s_end = target[end].s\n",
    "    for c in newstuff\n",
    "        push!(target, CurvePt(c.pos, c.s+s_end, c.k, c.kd))\n",
    "    end\n",
    "    return target\n",
    "end"
   ]
  },
  {
   "cell_type": "markdown",
   "metadata": {},
   "source": [
    "Example of a lane that consists in 3 road segments, a straight curve (from the left to the center), a turning part (right turn) and a final straight curve. You can visualize the lane that has been added to the roadway"
   ]
  },
  {
   "cell_type": "code",
   "execution_count": 5,
   "metadata": {},
   "outputs": [
    {
     "data": {
      "image/png": "[encoded data removed]",
      "text/plain": [
       "Cairo.CairoSurfaceIOStream{UInt32}(Ptr{Nothing} @0x000000002049f360, 1000.0, 600.0, IOBuffer(data=UInt8[...], readable=true, writable=true, seekable=true, append=false, size=0, maxsize=Inf, ptr=1, mark=-1))"
      ]
     },
     "execution_count": 5,
     "metadata": {},
     "output_type": "execute_result"
    }
   ],
   "source": [
    "# Append right turn coming from the left\n",
    "curve = gen_straight_curve(convert(VecE2, B+VecE2(-100,0)), convert(VecE2, B), 2)\n",
    "append_to_curve!(curve, gen_bezier_curve(B, C, 0.6r, 0.6r, 51)[2:end])\n",
    "append_to_curve!(curve, gen_straight_curve(convert(VecE2, C), convert(VecE2, C+VecE2(0,-50.0)), 2))\n",
    "lane = Lane(LaneTag(length(roadway.segments)+1,1), curve)\n",
    "push!(roadway.segments, RoadSegment(lane.tag.segment, [lane]))\n",
    "\n",
    "#visualize first lane\n",
    "cam = FitToContentCamera(0.0)\n",
    "render([roadway], camera=cam)"
   ]
  },
  {
   "cell_type": "markdown",
   "metadata": {},
   "source": [
    "Let's repeat the process and complete the T-shape intersection"
   ]
  },
  {
   "cell_type": "code",
   "execution_count": 6,
   "metadata": {},
   "outputs": [
    {
     "data": {
      "image/png": "[encoded data removed]",
      "text/plain": [
       "Cairo.CairoSurfaceIOStream{UInt32}(Ptr{Nothing} @0x00000000204a0560, 1000.0, 600.0, IOBuffer(data=UInt8[...], readable=true, writable=true, seekable=true, append=false, size=0, maxsize=Inf, ptr=1, mark=-1))"
      ]
     },
     "execution_count": 6,
     "metadata": {},
     "output_type": "execute_result"
    }
   ],
   "source": [
    "# Append straight left\n",
    "curve = gen_straight_curve(convert(VecE2, B+VecE2(-100,0)), convert(VecE2, B), 2)\n",
    "append_to_curve!(curve, gen_straight_curve(convert(VecE2, B), convert(VecE2, E), 2)[2:end])\n",
    "append_to_curve!(curve, gen_straight_curve(convert(VecE2, E), convert(VecE2, E+VecE2(50,0)), 2))\n",
    "lane = Lane(LaneTag(length(roadway.segments)+1,1), curve)\n",
    "push!(roadway.segments, RoadSegment(lane.tag.segment, [lane]))\n",
    "\n",
    "# Append straight right\n",
    "curve = gen_straight_curve(convert(VecE2, F+VecE2(50,0)), convert(VecE2, F), 2)\n",
    "append_to_curve!(curve, gen_straight_curve(convert(VecE2, F), convert(VecE2, A), 2)[2:end])\n",
    "append_to_curve!(curve, gen_straight_curve(convert(VecE2, A), convert(VecE2, A+VecE2(-100,0)), 2))\n",
    "lane = Lane(LaneTag(length(roadway.segments)+1,1), curve)\n",
    "push!(roadway.segments, RoadSegment(lane.tag.segment, [lane]))\n",
    "\n",
    "# Append left turn coming from the right\n",
    "curve = gen_straight_curve(convert(VecE2, F+VecE2(50,0)), convert(VecE2, F), 2)\n",
    "append_to_curve!(curve, gen_bezier_curve(F, C, 0.9r, 0.9r, 51)[2:end])\n",
    "append_to_curve!(curve, gen_straight_curve(convert(VecE2, C), convert(VecE2, C+VecE2(0,-50)), 2))\n",
    "lane = Lane(LaneTag(length(roadway.segments)+1,1), curve)\n",
    "push!(roadway.segments, RoadSegment(lane.tag.segment, [lane]))\n",
    "\n",
    "# Append right turn coming from below\n",
    "curve = gen_straight_curve(convert(VecE2, D+VecE2(0,-50)), convert(VecE2, D), 2)\n",
    "append_to_curve!(curve, gen_bezier_curve(D, E, 0.6r, 0.6r, 51)[2:end])\n",
    "append_to_curve!(curve, gen_straight_curve(convert(VecE2, E), convert(VecE2, E+VecE2(50,0)), 2))\n",
    "lane = Lane(LaneTag(length(roadway.segments)+1,1), curve)\n",
    "push!(roadway.segments, RoadSegment(lane.tag.segment, [lane]))\n",
    "\n",
    "# Append left turn coming from below\n",
    "curve = gen_straight_curve(convert(VecE2, D+VecE2(0,-50)), convert(VecE2, D), 2)\n",
    "append_to_curve!(curve, gen_bezier_curve(D, A, 0.9r, 0.9r, 51)[2:end])\n",
    "append_to_curve!(curve, gen_straight_curve(convert(VecE2, A), convert(VecE2, A+VecE2(-100,0)), 2))\n",
    "lane = Lane(LaneTag(length(roadway.segments)+1,1), curve)\n",
    "push!(roadway.segments, RoadSegment(lane.tag.segment, [lane]))\n",
    "\n",
    "cam = FitToContentCamera(0.0)\n",
    "render([roadway], camera=cam)"
   ]
  },
  {
   "cell_type": "markdown",
   "metadata": {},
   "source": [
    "We can identify each lane thanks to the following user-defined functions. We define a ```LaneOverlay``` object that indicate the lane to highlight. One could implement any custom type to display other information on the lane. We then add a new method to the  ```render!``` function that execute the specific action (coloring in blue). Look at Autoviz.jl for more detail on the ```render!``` function.\n",
    "\n",
    "Use the slider to highlight each lane. The number corresponds to a road segment.\n",
    "\n",
    "**Note :** In order to render the intersection, one must first initialize a ```Scene``` object."
   ]
  },
  {
   "cell_type": "code",
   "execution_count": 7,
   "metadata": {},
   "outputs": [
    {
     "data": {
      "text/html": [
       "<script>\n",
       "// Immediately-invoked-function-expression to avoid global variables.\n",
       "(function() {\n",
       "    var warning_div = document.getElementById(\"webio-warning-12145095314961718138\");\n",
       "    var hide = function () {\n",
       "        var script = document.getElementById(\"webio-setup-12579618388584567788\");\n",
       "        var parent = script && script.parentElement;\n",
       "        var grandparent = parent && parent.parentElement;\n",
       "        if (grandparent) {\n",
       "            grandparent.style.display = \"none\";\n",
       "        }\n",
       "        warning_div.style.display = \"none\";\n",
       "    };\n",
       "    if (typeof Jupyter !== \"undefined\") {\n",
       "        console.log(\"WebIO detected Jupyter notebook environment.\");\n",
       "        // Jupyter notebook.\n",
       "        var extensions = (\n",
       "            Jupyter\n",
       "            && Jupyter.notebook.config.data\n",
       "            && Jupyter.notebook.config.data.load_extensions\n",
       "        );\n",
       "        if (extensions && extensions[\"webio-jupyter-notebook\"]) {\n",
       "            // Extension already loaded.\n",
       "            console.log(\"Jupyter WebIO nbextension detected; not loading ad-hoc.\");\n",
       "            hide();\n",
       "            return;\n",
       "        }\n",
       "    } else if (window.location.pathname.includes(\"/lab\")) {\n",
       "        // Guessing JupyterLa\n",
       "        console.log(\"Jupyter Lab detected; make sure the @webio/jupyter-lab-provider labextension is installed.\");\n",
       "        hide();\n",
       "        return;\n",
       "    }\n",
       "})();\n",
       "\n",
       "</script>\n",
       "<p\n",
       "    id=\"webio-warning-12145095314961718138\"\n",
       "    class=\"output_text output_stderr\"\n",
       "    style=\"padding: 1em; font-weight: bold;\"\n",
       ">\n",
       "    Unable to load WebIO. Please make sure WebIO works for your Jupyter client.\n",
       "    For troubleshooting, please see <a href=\"https://juliagizmos.github.io/WebIO.jl/latest/providers/ijulia/\">\n",
       "    the WebIO/IJulia documentation</a>.\n",
       "    <!-- TODO: link to installation docs. -->\n",
       "</p>\n"
      ],
      "text/plain": [
       "HTML{String}(\"<script>\\n// Immediately-invoked-function-expression to avoid global variables.\\n(function() {\\n    var warning_div = document.getElementById(\\\"webio-warning-12145095314961718138\\\");\\n    var hide = function () {\\n        var script = document.getElementById(\\\"webio-setup-12579618388584567788\\\");\\n        var parent = script && script.parentElement;\\n        var grandparent = parent && parent.parentElement;\\n        if (grandparent) {\\n            grandparent.style.display = \\\"none\\\";\\n        }\\n        warning_div.style.display = \\\"none\\\";\\n    };\\n    if (typeof Jupyter !== \\\"undefined\\\") {\\n        console.log(\\\"WebIO detected Jupyter notebook environment.\\\");\\n        // Jupyter notebook.\\n        var extensions = (\\n            Jupyter\\n            && Jupyter.notebook.config.data\\n            && Jupyter.notebook.config.data.load_extensions\\n        );\\n        if (extensions && extensions[\\\"webio-jupyter-notebook\\\"]) {\\n            // Extension already loaded.\\n            console.log(\\\"Jupyter WebIO nbextension detected; not loading ad-hoc.\\\");\\n            hide();\\n            return;\\n        }\\n    } else if (window.location.pathname.includes(\\\"/lab\\\")) {\\n        // Guessing JupyterLa\\n        console.log(\\\"Jupyter Lab detected; make sure the @webio/jupyter-lab-provider labextension is installed.\\\");\\n        hide();\\n        return;\\n    }\\n})();\\n\\n</script>\\n<p\\n    id=\\\"webio-warning-12145095314961718138\\\"\\n    class=\\\"output_text output_stderr\\\"\\n    style=\\\"padding: 1em; font-weight: bold;\\\"\\n>\\n    Unable to load WebIO. Please make sure WebIO works for your Jupyter client.\\n    For troubleshooting, please see <a href=\\\"https://juliagizmos.github.io/WebIO.jl/latest/providers/ijulia/\\\">\\n    the WebIO/IJulia documentation</a>.\\n    <!-- TODO: link to installation docs. -->\\n</p>\\n\")"
      ]
     },
     "metadata": {},
     "output_type": "display_data"
    },
    {
     "name": "stderr",
     "output_type": "stream",
     "text": [
      "┌ Warning: Accessing `scope.id` is deprecated, use `scopeid(scope)` instead.\n",
      "│   caller = ip:0x0\n",
      "└ @ Core :-1\n"
     ]
    },
    {
     "data": {
      "application/vnd.webio.node+json": {
       "children": [
        {
         "children": [
          {
           "children": [
            {
             "children": [
              {
               "children": [
                {
                 "children": [
                  "i"
                 ],
                 "instanceArgs": {
                  "namespace": "html",
                  "tag": "label"
                 },
                 "nodeType": "DOM",
                 "props": {
                  "className": "interact ",
                  "style": {
                   "padding": "5px 10px 0px 10px"
                  }
                 },
                 "type": "node"
                }
               ],
               "instanceArgs": {
                "namespace": "html",
                "tag": "div"
               },
               "nodeType": "DOM",
               "props": {
                "className": "interact-flex-row-left"
               },
               "type": "node"
              },
              {
               "children": [
                {
                 "children": [],
                 "instanceArgs": {
                  "namespace": "html",
                  "tag": "input"
                 },
                 "nodeType": "DOM",
                 "props": {
                  "attributes": {
                   "data-bind": "numericValue: index, valueUpdate: 'input', event: {change: function (){this.changes(this.changes()+1)}}",
                   "orient": "horizontal",
                   "type": "range"
                  },
                  "className": "slider slider is-fullwidth",
                  "max": 6,
                  "min": 1,
                  "step": 1,
                  "style": {}
                 },
                 "type": "node"
                }
               ],
               "instanceArgs": {
                "namespace": "html",
                "tag": "div"
               },
               "nodeType": "DOM",
               "props": {
                "className": "interact-flex-row-center"
               },
               "type": "node"
              },
              {
               "children": [
                {
                 "children": [],
                 "instanceArgs": {
                  "namespace": "html",
                  "tag": "p"
                 },
                 "nodeType": "DOM",
                 "props": {
                  "attributes": {
                   "data-bind": "text: formatted_val"
                  }
                 },
                 "type": "node"
                }
               ],
               "instanceArgs": {
                "namespace": "html",
                "tag": "div"
               },
               "nodeType": "DOM",
               "props": {
                "className": "interact-flex-row-right"
               },
               "type": "node"
              }
             ],
             "instanceArgs": {
              "namespace": "html",
              "tag": "div"
             },
             "nodeType": "DOM",
             "props": {
              "className": "interact-flex-row interact-widget"
             },
             "type": "node"
            }
           ],
           "instanceArgs": {
            "handlers": {
             "changes": [
              "(function (val){return (val!=this.model[\"changes\"]()) ? (this.valueFromJulia[\"changes\"]=true, this.model[\"changes\"](val)) : undefined})"
             ],
             "index": [
              "(function (val){return (val!=this.model[\"index\"]()) ? (this.valueFromJulia[\"index\"]=true, this.model[\"index\"](val)) : undefined})"
             ]
            },
            "id": "1513549311698056342",
            "imports": {
             "data": [
              {
               "name": "knockout",
               "type": "js",
               "url": "/assetserver/022a91f14dcdbbacf06bf50005c270db01df1267-knockout.js"
              },
              {
               "name": "knockout_punches",
               "type": "js",
               "url": "/assetserver/3495c483f9e871f89a1e022267cccdb6efaa604b-knockout_punches.js"
              },
              {
               "name": null,
               "type": "js",
               "url": "/assetserver/7bbebb41185686fa4dc236bb897c98a530d51dc2-all.js"
              },
              {
               "name": null,
               "type": "css",
               "url": "/assetserver/f86af320478262bcf00b9db44a2264161f394708-style.css"
              },
              {
               "name": null,
               "type": "css",
               "url": "/assetserver/755919ab5089275528f8a583d9fba4e0adcae551-bulma_confined.min.css"
              }
             ],
             "type": "async_block"
            },
            "mount_callbacks": [
             "function () {\n    var handler = (function (ko, koPunches) {\n    ko.punches.enableAll();\n    ko.bindingHandlers.numericValue = {\n        init: function(element, valueAccessor, allBindings, data, context) {\n            var stringified = ko.observable(ko.unwrap(valueAccessor()));\n            stringified.subscribe(function(value) {\n                var val = parseFloat(value);\n                if (!isNaN(val)) {\n                    valueAccessor()(val);\n                }\n            });\n            valueAccessor().subscribe(function(value) {\n                var str = JSON.stringify(value);\n                if ((str == \"0\") && ([\"-0\", \"-0.\"].indexOf(stringified()) >= 0))\n                     return;\n                 if ([\"null\", \"\"].indexOf(str) >= 0)\n                     return;\n                stringified(str);\n            });\n            ko.applyBindingsToNode(\n                element,\n                {\n                    value: stringified,\n                    valueUpdate: allBindings.get('valueUpdate'),\n                },\n                context,\n            );\n        }\n    };\n    var json_data = {\"formatted_vals\":[\"1\",\"2\",\"3\",\"4\",\"5\",\"6\"],\"changes\":WebIO.getval({\"name\":\"changes\",\"scope\":\"1513549311698056342\",\"id\":\"5133579657214529844\",\"type\":\"observable\"}),\"index\":WebIO.getval({\"name\":\"index\",\"scope\":\"1513549311698056342\",\"id\":\"14065850731292600761\",\"type\":\"observable\"})};\n    var self = this;\n    function AppViewModel() {\n        for (var key in json_data) {\n            var el = json_data[key];\n            this[key] = Array.isArray(el) ? ko.observableArray(el) : ko.observable(el);\n        }\n        \n        [this[\"formatted_val\"]=ko.computed(    function(){\n        return this.formatted_vals()[parseInt(this.index())-(1)];\n    }\n,this)]\n        [this[\"changes\"].subscribe((function (val){!(this.valueFromJulia[\"changes\"]) ? (WebIO.setval({\"name\":\"changes\",\"scope\":\"1513549311698056342\",\"id\":\"5133579657214529844\",\"type\":\"observable\"},val)) : undefined; return this.valueFromJulia[\"changes\"]=false}),self),this[\"index\"].subscribe((function (val){!(this.valueFromJulia[\"index\"]) ? (WebIO.setval({\"name\":\"index\",\"scope\":\"1513549311698056342\",\"id\":\"14065850731292600761\",\"type\":\"observable\"},val)) : undefined; return this.valueFromJulia[\"index\"]=false}),self)]\n        \n    }\n    self.model = new AppViewModel();\n    self.valueFromJulia = {};\n    for (var key in json_data) {\n        self.valueFromJulia[key] = false;\n    }\n    ko.applyBindings(self.model, self.dom);\n}\n);\n    (WebIO.importBlock({\"data\":[{\"name\":\"knockout\",\"type\":\"js\",\"url\":\"/assetserver/022a91f14dcdbbacf06bf50005c270db01df1267-knockout.js\"},{\"name\":\"knockout_punches\",\"type\":\"js\",\"url\":\"/assetserver/3495c483f9e871f89a1e022267cccdb6efaa604b-knockout_punches.js\"}],\"type\":\"async_block\"})).then((imports) => handler.apply(this, imports));\n}\n"
            ],
            "observables": {
             "changes": {
              "id": "5133579657214529844",
              "sync": false,
              "value": 0
             },
             "index": {
              "id": "14065850731292600761",
              "sync": true,
              "value": 3
             }
            },
            "systemjs_options": null
           },
           "nodeType": "Scope",
           "props": {},
           "type": "node"
          }
         ],
         "instanceArgs": {
          "namespace": "html",
          "tag": "div"
         },
         "nodeType": "DOM",
         "props": {
          "className": "field interact-widget"
         },
         "type": "node"
        },
        {
         "children": [
          {
           "children": [],
           "instanceArgs": {
            "id": "12656288750163244334",
            "name": "obs-node"
           },
           "nodeType": "ObservableNode",
           "props": {},
           "type": "node"
          }
         ],
         "instanceArgs": {
          "handlers": {},
          "id": "11202119772902108501",
          "imports": {
           "data": [],
           "type": "async_block"
          },
          "mount_callbacks": [],
          "observables": {
           "obs-node": {
            "id": "12656288750163244334",
            "sync": false,
            "value": {
             "children": [
              {
               "children": [],
               "instanceArgs": {
                "namespace": "html",
                "tag": "div"
               },
               "nodeType": "DOM",
               "props": {
                "setInnerHtml": "<img src='data:image/png;base64,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'></img>"
               },
               "type": "node"
              }
             ],
             "instanceArgs": {
              "namespace": "html",
              "tag": "div"
             },
             "nodeType": "DOM",
             "props": {
              "className": "interact-flex-row interact-widget"
             },
             "type": "node"
            }
           }
          },
          "systemjs_options": null
         },
         "nodeType": "Scope",
         "props": {},
         "type": "node"
        }
       ],
       "instanceArgs": {
        "namespace": "html",
        "tag": "div"
       },
       "nodeType": "DOM",
       "props": {},
       "type": "node"
      },
      "text/html": [
       "<div\n",
       "    class=\"webio-mountpoint\"\n",
       "    data-webio-mountpoint=\"4568092321069220708\"\n",
       ">\n",
       "    <script>\n",
       "    if (window.require && require.defined && require.defined(\"nbextensions/webio-jupyter-notebook\")) {\n",
       "        console.log(\"Jupyter WebIO extension detected, not mounting.\");\n",
       "    } else if (window.WebIO) {\n",
       "        WebIO.mount(\n",
       "            document.querySelector('[data-webio-mountpoint=\"4568092321069220708\"]'),\n",
       "            {\"props\":{},\"nodeType\":\"DOM\",\"type\":\"node\",\"instanceArgs\":{\"namespace\":\"html\",\"tag\":\"div\"},\"children\":[{\"props\":{\"className\":\"field interact-widget\"},\"nodeType\":\"DOM\",\"type\":\"node\",\"instanceArgs\":{\"namespace\":\"html\",\"tag\":\"div\"},\"children\":[{\"props\":{},\"nodeType\":\"Scope\",\"type\":\"node\",\"instanceArgs\":{\"imports\":{\"data\":[{\"name\":\"knockout\",\"type\":\"js\",\"url\":\"\\/assetserver\\/022a91f14dcdbbacf06bf50005c270db01df1267-knockout.js\"},{\"name\":\"knockout_punches\",\"type\":\"js\",\"url\":\"\\/assetserver\\/3495c483f9e871f89a1e022267cccdb6efaa604b-knockout_punches.js\"},{\"name\":null,\"type\":\"js\",\"url\":\"\\/assetserver\\/7bbebb41185686fa4dc236bb897c98a530d51dc2-all.js\"},{\"name\":null,\"type\":\"css\",\"url\":\"\\/assetserver\\/f86af320478262bcf00b9db44a2264161f394708-style.css\"},{\"name\":null,\"type\":\"css\",\"url\":\"\\/assetserver\\/755919ab5089275528f8a583d9fba4e0adcae551-bulma_confined.min.css\"}],\"type\":\"async_block\"},\"id\":\"1513549311698056342\",\"handlers\":{\"changes\":[\"(function (val){return (val!=this.model[\\\"changes\\\"]()) ? (this.valueFromJulia[\\\"changes\\\"]=true, this.model[\\\"changes\\\"](val)) : undefined})\"],\"index\":[\"(function (val){return (val!=this.model[\\\"index\\\"]()) ? (this.valueFromJulia[\\\"index\\\"]=true, this.model[\\\"index\\\"](val)) : undefined})\"]},\"systemjs_options\":null,\"mount_callbacks\":[\"function () {\\n    var handler = (function (ko, koPunches) {\\n    ko.punches.enableAll();\\n    ko.bindingHandlers.numericValue = {\\n        init: function(element, valueAccessor, allBindings, data, context) {\\n            var stringified = ko.observable(ko.unwrap(valueAccessor()));\\n            stringified.subscribe(function(value) {\\n                var val = parseFloat(value);\\n                if (!isNaN(val)) {\\n                    valueAccessor()(val);\\n                }\\n            });\\n            valueAccessor().subscribe(function(value) {\\n                var str = JSON.stringify(value);\\n                if ((str == \\\"0\\\") && ([\\\"-0\\\", \\\"-0.\\\"].indexOf(stringified()) >= 0))\\n                     return;\\n                 if ([\\\"null\\\", \\\"\\\"].indexOf(str) >= 0)\\n                     return;\\n                stringified(str);\\n            });\\n            ko.applyBindingsToNode(\\n                element,\\n                {\\n                    value: stringified,\\n                    valueUpdate: allBindings.get('valueUpdate'),\\n                },\\n                context,\\n            );\\n        }\\n    };\\n    var json_data = {\\\"formatted_vals\\\":[\\\"1\\\",\\\"2\\\",\\\"3\\\",\\\"4\\\",\\\"5\\\",\\\"6\\\"],\\\"changes\\\":WebIO.getval({\\\"name\\\":\\\"changes\\\",\\\"scope\\\":\\\"1513549311698056342\\\",\\\"id\\\":\\\"5133579657214529844\\\",\\\"type\\\":\\\"observable\\\"}),\\\"index\\\":WebIO.getval({\\\"name\\\":\\\"index\\\",\\\"scope\\\":\\\"1513549311698056342\\\",\\\"id\\\":\\\"14065850731292600761\\\",\\\"type\\\":\\\"observable\\\"})};\\n    var self = this;\\n    function AppViewModel() {\\n        for (var key in json_data) {\\n            var el = json_data[key];\\n            this[key] = Array.isArray(el) ? ko.observableArray(el) : ko.observable(el);\\n        }\\n        \\n        [this[\\\"formatted_val\\\"]=ko.computed(    function(){\\n        return this.formatted_vals()[parseInt(this.index())-(1)];\\n    }\\n,this)]\\n        [this[\\\"changes\\\"].subscribe((function (val){!(this.valueFromJulia[\\\"changes\\\"]) ? (WebIO.setval({\\\"name\\\":\\\"changes\\\",\\\"scope\\\":\\\"1513549311698056342\\\",\\\"id\\\":\\\"5133579657214529844\\\",\\\"type\\\":\\\"observable\\\"},val)) : undefined; return this.valueFromJulia[\\\"changes\\\"]=false}),self),this[\\\"index\\\"].subscribe((function (val){!(this.valueFromJulia[\\\"index\\\"]) ? (WebIO.setval({\\\"name\\\":\\\"index\\\",\\\"scope\\\":\\\"1513549311698056342\\\",\\\"id\\\":\\\"14065850731292600761\\\",\\\"type\\\":\\\"observable\\\"},val)) : undefined; return this.valueFromJulia[\\\"index\\\"]=false}),self)]\\n        \\n    }\\n    self.model = new AppViewModel();\\n    self.valueFromJulia = {};\\n    for (var key in json_data) {\\n        self.valueFromJulia[key] = false;\\n    }\\n    ko.applyBindings(self.model, self.dom);\\n}\\n);\\n    (WebIO.importBlock({\\\"data\\\":[{\\\"name\\\":\\\"knockout\\\",\\\"type\\\":\\\"js\\\",\\\"url\\\":\\\"\\/assetserver\\/022a91f14dcdbbacf06bf50005c270db01df1267-knockout.js\\\"},{\\\"name\\\":\\\"knockout_punches\\\",\\\"type\\\":\\\"js\\\",\\\"url\\\":\\\"\\/assetserver\\/3495c483f9e871f89a1e022267cccdb6efaa604b-knockout_punches.js\\\"}],\\\"type\\\":\\\"async_block\\\"})).then((imports) => handler.apply(this, imports));\\n}\\n\"],\"observables\":{\"changes\":{\"sync\":false,\"id\":\"5133579657214529844\",\"value\":0},\"index\":{\"sync\":true,\"id\":\"14065850731292600761\",\"value\":3}}},\"children\":[{\"props\":{\"className\":\"interact-flex-row interact-widget\"},\"nodeType\":\"DOM\",\"type\":\"node\",\"instanceArgs\":{\"namespace\":\"html\",\"tag\":\"div\"},\"children\":[{\"props\":{\"className\":\"interact-flex-row-left\"},\"nodeType\":\"DOM\",\"type\":\"node\",\"instanceArgs\":{\"namespace\":\"html\",\"tag\":\"div\"},\"children\":[{\"props\":{\"className\":\"interact \",\"style\":{\"padding\":\"5px 10px 0px 10px\"}},\"nodeType\":\"DOM\",\"type\":\"node\",\"instanceArgs\":{\"namespace\":\"html\",\"tag\":\"label\"},\"children\":[\"i\"]}]},{\"props\":{\"className\":\"interact-flex-row-center\"},\"nodeType\":\"DOM\",\"type\":\"node\",\"instanceArgs\":{\"namespace\":\"html\",\"tag\":\"div\"},\"children\":[{\"props\":{\"max\":6,\"min\":1,\"attributes\":{\"type\":\"range\",\"data-bind\":\"numericValue: index, valueUpdate: 'input', event: {change: function (){this.changes(this.changes()+1)}}\",\"orient\":\"horizontal\"},\"step\":1,\"className\":\"slider slider is-fullwidth\",\"style\":{}},\"nodeType\":\"DOM\",\"type\":\"node\",\"instanceArgs\":{\"namespace\":\"html\",\"tag\":\"input\"},\"children\":[]}]},{\"props\":{\"className\":\"interact-flex-row-right\"},\"nodeType\":\"DOM\",\"type\":\"node\",\"instanceArgs\":{\"namespace\":\"html\",\"tag\":\"div\"},\"children\":[{\"props\":{\"attributes\":{\"data-bind\":\"text: formatted_val\"}},\"nodeType\":\"DOM\",\"type\":\"node\",\"instanceArgs\":{\"namespace\":\"html\",\"tag\":\"p\"},\"children\":[]}]}]}]}]},{\"props\":{},\"nodeType\":\"Scope\",\"type\":\"node\",\"instanceArgs\":{\"imports\":{\"data\":[],\"type\":\"async_block\"},\"id\":\"11470311858072331644\",\"handlers\":{},\"systemjs_options\":null,\"mount_callbacks\":[],\"observables\":{\"obs-node\":{\"sync\":false,\"id\":\"6591340809860192230\",\"value\":{\"props\":{\"className\":\"interact-flex-row interact-widget\"},\"nodeType\":\"DOM\",\"type\":\"node\",\"instanceArgs\":{\"namespace\":\"html\",\"tag\":\"div\"},\"children\":[{\"props\":{\"setInnerHtml\":\"<img src='data:image\\/png;base64,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'><\\/img>\"},\"nodeType\":\"DOM\",\"type\":\"node\",\"instanceArgs\":{\"namespace\":\"html\",\"tag\":\"div\"},\"children\":[]}]}}}},\"children\":[{\"props\":{},\"nodeType\":\"ObservableNode\",\"type\":\"node\",\"instanceArgs\":{\"id\":\"6591340809860192230\",\"name\":\"obs-node\"},\"children\":[]}]}]},\n",
       "            window,\n",
       "        );\n",
       "    } else {\n",
       "        document\n",
       "            .querySelector('[data-webio-mountpoint=\"4568092321069220708\"]')\n",
       "            .innerHTML = (\n",
       "                '<strong>WebIO not detected. Please read ' +\n",
       "                '<a href=\"https://juliagizmos.github.io/WebIO.jl/latest/troubleshooting/not-detected/\">the troubleshooting guide</a> ' +\n",
       "                'for more information on how to resolve this issue.' +\n",
       "                '</strong>'\n",
       "            );\n",
       "    }\n",
       "    </script>\n",
       "</div>\n"
      ],
      "text/plain": [
       "Node{WebIO.DOM}(WebIO.DOM(:html, :div), Any[Node{WebIO.DOM}(WebIO.DOM(:html, :div), Any[Scope(Node{WebIO.DOM}(WebIO.DOM(:html, :div), Any[Node{WebIO.DOM}(WebIO.DOM(:html, :div), Any[Node{WebIO.DOM}(WebIO.DOM(:html, :label), Any[\"i\"], Dict{Symbol,Any}(:className => \"interact \",:style => Dict{Any,Any}(:padding => \"5px 10px 0px 10px\")))], Dict{Symbol,Any}(:className => \"interact-flex-row-left\")), Node{WebIO.DOM}(WebIO.DOM(:html, :div), Any[Node{WebIO.DOM}(WebIO.DOM(:html, :input), Any[], Dict{Symbol,Any}(:max => 6,:min => 1,:attributes => Dict{Any,Any}(:type => \"range\",Symbol(\"data-bind\") => \"numericValue: index, valueUpdate: 'input', event: {change: function (){this.changes(this.changes()+1)}}\",\"orient\" => \"horizontal\"),:step => 1,:className => \"slider slider is-fullwidth\",:style => Dict{Any,Any}()))], Dict{Symbol,Any}(:className => \"interact-flex-row-center\")), Node{WebIO.DOM}(WebIO.DOM(:html, :div), Any[Node{WebIO.DOM}(WebIO.DOM(:html, :p), Any[], Dict{Symbol,Any}(:attributes => Dict(\"data-bind\" => \"text: formatted_val\")))], Dict{Symbol,Any}(:className => \"interact-flex-row-right\"))], Dict{Symbol,Any}(:className => \"interact-flex-row interact-widget\")), Dict{String,Tuple{Observables.AbstractObservable,Union{Nothing, Bool}}}(\"changes\" => (Observable{Int64} with 1 listeners. Value:\n",
       "0, nothing),\"index\" => (Observable{Int64} with 2 listeners. Value:\n",
       "3, nothing)), Set(String[]), nothing, Asset[Asset(\"js\", \"knockout\", \"C:\\\\Users\\\\Maxime\\\\.julia\\\\packages\\\\Knockout\\\\IP1uR\\\\src\\\\..\\\\assets\\\\knockout.js\"), Asset(\"js\", \"knockout_punches\", \"C:\\\\Users\\\\Maxime\\\\.julia\\\\packages\\\\Knockout\\\\IP1uR\\\\src\\\\..\\\\assets\\\\knockout_punches.js\"), Asset(\"js\", nothing, \"C:\\\\Users\\\\Maxime\\\\.julia\\\\packages\\\\InteractBase\\\\NMcus\\\\src\\\\..\\\\assets\\\\all.js\"), Asset(\"css\", nothing, \"C:\\\\Users\\\\Maxime\\\\.julia\\\\packages\\\\InteractBase\\\\NMcus\\\\src\\\\..\\\\assets\\\\style.css\"), Asset(\"css\", nothing, \"C:\\\\Users\\\\Maxime\\\\.julia\\\\packages\\\\Interact\\\\SbgIk\\\\src\\\\..\\\\assets\\\\bulma_confined.min.css\")], Dict{Any,Any}(\"changes\" => Any[WebIO.JSString(\"(function (val){return (val!=this.model[\\\"changes\\\"]()) ? (this.valueFromJulia[\\\"changes\\\"]=true, this.model[\\\"changes\\\"](val)) : undefined})\")],\"index\" => Any[WebIO.JSString(\"(function (val){return (val!=this.model[\\\"index\\\"]()) ? (this.valueFromJulia[\\\"index\\\"]=true, this.model[\\\"index\\\"](val)) : undefined})\")]), WebIO.ConnectionPool(Channel{Any}(sz_max:32,sz_curr:0), Set(AbstractConnection[]), Base.GenericCondition{Base.AlwaysLockedST}(Base.InvasiveLinkedList{Task}(Task (runnable) @0x0000000024aae290, Task (runnable) @0x0000000024aae290), Base.AlwaysLockedST(1))), WebIO.JSString[WebIO.JSString(\"function () {\\n    var handler = (function (ko, koPunches) {\\n    ko.punches.enableAll();\\n    ko.bindingHandlers.numericValue = {\\n        init: function(element, valueAccessor, allBindings, data, context) {\\n            var stringified = ko.observable(ko.unwrap(valueAccessor()));\\n            stringified.subscribe(function(value) {\\n                var val = parseFloat(value);\\n                if (!isNaN(val)) {\\n                    valueAccessor()(val);\\n                }\\n            });\\n            valueAccessor().subscribe(function(value) {\\n                var str = JSON.stringify(value);\\n                if ((str == \\\"0\\\") && ([\\\"-0\\\", \\\"-0.\\\"].indexOf(stringified()) >= 0))\\n                     return;\\n                 if ([\\\"null\\\", \\\"\\\"].indexOf(str) >= 0)\\n                     return;\\n                stringified(str);\\n            });\\n            ko.applyBindingsToNode(\\n                element,\\n                {\\n                    value: stringified,\\n                    valueUpdate: allBindings.get('valueUpdate'),\\n                },\\n                context,\\n            );\\n        }\\n    };\\n    var json_data = {\\\"formatted_vals\\\":[\\\"1\\\",\\\"2\\\",\\\"3\\\",\\\"4\\\",\\\"5\\\",\\\"6\\\"],\\\"changes\\\":WebIO.getval({\\\"name\\\":\\\"changes\\\",\\\"scope\\\":\\\"1513549311698056342\\\",\\\"id\\\":\\\"5133579657214529844\\\",\\\"type\\\":\\\"observable\\\"}),\\\"index\\\":WebIO.getval({\\\"name\\\":\\\"index\\\",\\\"scope\\\":\\\"1513549311698056342\\\",\\\"id\\\":\\\"14065850731292600761\\\",\\\"type\\\":\\\"observable\\\"})};\\n    var self = this;\\n    function AppViewModel() {\\n        for (var key in json_data) {\\n            var el = json_data[key];\\n            this[key] = Array.isArray(el) ? ko.observableArray(el) : ko.observable(el);\\n        }\\n        \\n        [this[\\\"formatted_val\\\"]=ko.computed(    function(){\\n        return this.formatted_vals()[parseInt(this.index())-(1)];\\n    }\\n,this)]\\n        [this[\\\"changes\\\"].subscribe((function (val){!(this.valueFromJulia[\\\"changes\\\"]) ? (WebIO.setval({\\\"name\\\":\\\"changes\\\",\\\"scope\\\":\\\"1513549311698056342\\\",\\\"id\\\":\\\"5133579657214529844\\\",\\\"type\\\":\\\"observable\\\"},val)) : undefined; return this.valueFromJulia[\\\"changes\\\"]=false}),self),this[\\\"index\\\"].subscribe((function (val){!(this.valueFromJulia[\\\"index\\\"]) ? (WebIO.setval({\\\"name\\\":\\\"index\\\",\\\"scope\\\":\\\"1513549311698056342\\\",\\\"id\\\":\\\"14065850731292600761\\\",\\\"type\\\":\\\"observable\\\"},val)) : undefined; return this.valueFromJulia[\\\"index\\\"]=false}),self)]\\n        \\n    }\\n    self.model = new AppViewModel();\\n    self.valueFromJulia = {};\\n    for (var key in json_data) {\\n        self.valueFromJulia[key] = false;\\n    }\\n    ko.applyBindings(self.model, self.dom);\\n}\\n);\\n    (WebIO.importBlock({\\\"data\\\":[{\\\"name\\\":\\\"knockout\\\",\\\"type\\\":\\\"js\\\",\\\"url\\\":\\\"/assetserver/022a91f14dcdbbacf06bf50005c270db01df1267-knockout.js\\\"},{\\\"name\\\":\\\"knockout_punches\\\",\\\"type\\\":\\\"js\\\",\\\"url\\\":\\\"/assetserver/3495c483f9e871f89a1e022267cccdb6efaa604b-knockout_punches.js\\\"}],\\\"type\\\":\\\"async_block\\\"})).then((imports) => handler.apply(this, imports));\\n}\\n\")])], Dict{Symbol,Any}(:className => \"field interact-widget\")), Observable{Any} with 0 listeners. Value:\n",
       "Node{WebIO.DOM}(WebIO.DOM(:html, :div), Any[Cairo.CairoSurfaceIOStream{UInt32}(Ptr{Nothing} @0x000000002049fde0, 1000.0, 600.0, IOBuffer(data=UInt8[...], readable=true, writable=true, seekable=true, append=false, size=0, maxsize=Inf, ptr=1, mark=-1))], Dict{Symbol,Any}(:className => \"interact-flex-row interact-widget\"))], Dict{Symbol,Any}())"
      ]
     },
     "execution_count": 7,
     "metadata": {
      "application/vnd.webio.node+json": {
       "kernelId": "5c8ffdce-6dda-4b0c-a8b3-6131c4720f68"
      }
     },
     "output_type": "execute_result"
    }
   ],
   "source": [
    "using Interact\n",
    "\n",
    "struct LaneOverlay{R<:Roadway} <: SceneOverlay\n",
    "    lane::Lane\n",
    "    roadway::R\n",
    "    color::Colorant\n",
    "end\n",
    "function AutoViz.add_renderable!(rendermodel::RenderModel, overlay::LaneOverlay)\n",
    "    add_renderable!(rendermodel, overlay.lane, overlay.roadway, color_asphalt=overlay.color)\n",
    "    return rendermodel\n",
    "end\n",
    "\n",
    "@manipulate for i in 1 : length(roadway.segments)\n",
    "    render([roadway, LaneOverlay(roadway[LaneTag(i,1)], roadway, RGBA(0.0,0.0,1.0,0.5))], camera=cam)\n",
    "end"
   ]
  },
  {
   "cell_type": "markdown",
   "metadata": {},
   "source": [
    "## Navigate in the new road network\n",
    "\n",
    "Let's populate the intersection"
   ]
  },
  {
   "cell_type": "code",
   "execution_count": 8,
   "metadata": {},
   "outputs": [
    {
     "data": {
      "image/png": "[encoded data removed]",
      "text/plain": [
       "Cairo.CairoSurfaceIOStream{UInt32}(Ptr{Nothing} @0x000000002049f7e0, 1000.0, 600.0, IOBuffer(data=UInt8[...], readable=true, writable=true, seekable=true, append=false, size=0, maxsize=Inf, ptr=1, mark=-1))"
      ]
     },
     "execution_count": 8,
     "metadata": {},
     "output_type": "execute_result"
    }
   ],
   "source": [
    "vs0 = VehicleState(B + polar(50.0,-π), roadway, 8.0) # initial state of the vehicle\n",
    "v0 = Vehicle(vs0, VehicleDef(), 1)\n",
    "scene = Scene([v0])\n",
    "\n",
    "render([roadway, scene], camera=cam)"
   ]
  },
  {
   "cell_type": "markdown",
   "metadata": {},
   "source": [
    "We will use lateral and longitudinal acceleration to control a car in the intersection. The first step is to define a corresponding action type that will contain the acceleration inputs.\n"
   ]
  },
  {
   "cell_type": "code",
   "execution_count": 9,
   "metadata": {},
   "outputs": [],
   "source": [
    "struct LaneSpecificAccelLatLon\n",
    "    a_lat::Float64\n",
    "    a_lon::Float64\n",
    "end"
   ]
  },
  {
   "cell_type": "markdown",
   "metadata": {},
   "source": [
    "Next, add a method to the propagate function to update the state using our new action type. \n",
    "\n",
    "\n",
    "**Note:** There is an existing propagate method to update the state using lateral and longitudinal acceleration. (it is used in line 3)"
   ]
  },
  {
   "cell_type": "code",
   "execution_count": 10,
   "metadata": {},
   "outputs": [],
   "source": [
    "function AutomotiveDrivingModels.propagate(veh::Vehicle, action::LaneSpecificAccelLatLon, roadway::Roadway, Δt::Float64)\n",
    "    lane_tag_orig = veh.state.posF.roadind.tag\n",
    "    state = propagate(veh, LatLonAccel(action.a_lat, action.a_lon), roadway, Δt)\n",
    "    roadproj = proj(state.posG, roadway[lane_tag_orig], roadway, move_along_curves=false)\n",
    "    retval = VehicleState(Frenet(roadproj, roadway), roadway, state.v)\n",
    "    return retval\n",
    "end"
   ]
  },
  {
   "cell_type": "markdown",
   "metadata": {},
   "source": [
    "**Driver Model:**\n",
    "\n",
    "We define a driver model, which can be seen as a distribution over actions. Here we will define the simplest model, which is to repeat the same action."
   ]
  },
  {
   "cell_type": "code",
   "execution_count": 11,
   "metadata": {},
   "outputs": [],
   "source": [
    "struct InterDriver <: DriverModel{LaneSpecificAccelLatLon}\n",
    "    a::LaneSpecificAccelLatLon\n",
    "end\n",
    "AutomotiveDrivingModels.observe!(model::InterDriver, scene::Scene, roadway::Roadway, egoid::Int64) = model\n",
    "Base.rand(::AbstractRNG, model::InterDriver) = model.a"
   ]
  },
  {
   "cell_type": "markdown",
   "metadata": {},
   "source": [
    "**Simulate: **\n",
    "\n",
    "First associate a model to each driver in the scene using a dictionnary. Here we only have one driver identified by its ID: 1. Then, everything is ready to run the ```simulate``` function."
   ]
  },
  {
   "cell_type": "code",
   "execution_count": 12,
   "metadata": {},
   "outputs": [
    {
     "data": {
      "application/vnd.webio.node+json": {
       "children": [
        {
         "children": [
          {
           "children": [
            {
             "children": [
              {
               "children": [
                {
                 "children": [
                  "frame_index"
                 ],
                 "instanceArgs": {
                  "namespace": "html",
                  "tag": "label"
                 },
                 "nodeType": "DOM",
                 "props": {
                  "className": "interact ",
                  "style": {
                   "padding": "5px 10px 0px 10px"
                  }
                 },
                 "type": "node"
                }
               ],
               "instanceArgs": {
                "namespace": "html",
                "tag": "div"
               },
               "nodeType": "DOM",
               "props": {
                "className": "interact-flex-row-left"
               },
               "type": "node"
              },
              {
               "children": [
                {
                 "children": [],
                 "instanceArgs": {
                  "namespace": "html",
                  "tag": "input"
                 },
                 "nodeType": "DOM",
                 "props": {
                  "attributes": {
                   "data-bind": "numericValue: index, valueUpdate: 'input', event: {change: function (){this.changes(this.changes()+1)}}",
                   "orient": "horizontal",
                   "type": "range"
                  },
                  "className": "slider slider is-fullwidth",
                  "max": 101,
                  "min": 1,
                  "step": 1,
                  "style": {}
                 },
                 "type": "node"
                }
               ],
               "instanceArgs": {
                "namespace": "html",
                "tag": "div"
               },
               "nodeType": "DOM",
               "props": {
                "className": "interact-flex-row-center"
               },
               "type": "node"
              },
              {
               "children": [
                {
                 "children": [],
                 "instanceArgs": {
                  "namespace": "html",
                  "tag": "p"
                 },
                 "nodeType": "DOM",
                 "props": {
                  "attributes": {
                   "data-bind": "text: formatted_val"
                  }
                 },
                 "type": "node"
                }
               ],
               "instanceArgs": {
                "namespace": "html",
                "tag": "div"
               },
               "nodeType": "DOM",
               "props": {
                "className": "interact-flex-row-right"
               },
               "type": "node"
              }
             ],
             "instanceArgs": {
              "namespace": "html",
              "tag": "div"
             },
             "nodeType": "DOM",
             "props": {
              "className": "interact-flex-row interact-widget"
             },
             "type": "node"
            }
           ],
           "instanceArgs": {
            "handlers": {
             "changes": [
              "(function (val){return (val!=this.model[\"changes\"]()) ? (this.valueFromJulia[\"changes\"]=true, this.model[\"changes\"](val)) : undefined})"
             ],
             "index": [
              "(function (val){return (val!=this.model[\"index\"]()) ? (this.valueFromJulia[\"index\"]=true, this.model[\"index\"](val)) : undefined})"
             ]
            },
            "id": "6489192857496168451",
            "imports": {
             "data": [
              {
               "name": "knockout",
               "type": "js",
               "url": "/assetserver/022a91f14dcdbbacf06bf50005c270db01df1267-knockout.js"
              },
              {
               "name": "knockout_punches",
               "type": "js",
               "url": "/assetserver/3495c483f9e871f89a1e022267cccdb6efaa604b-knockout_punches.js"
              },
              {
               "name": null,
               "type": "js",
               "url": "/assetserver/7bbebb41185686fa4dc236bb897c98a530d51dc2-all.js"
              },
              {
               "name": null,
               "type": "css",
               "url": "/assetserver/f86af320478262bcf00b9db44a2264161f394708-style.css"
              },
              {
               "name": null,
               "type": "css",
               "url": "/assetserver/755919ab5089275528f8a583d9fba4e0adcae551-bulma_confined.min.css"
              }
             ],
             "type": "async_block"
            },
            "mount_callbacks": [
             "function () {\n    var handler = (function (ko, koPunches) {\n    ko.punches.enableAll();\n    ko.bindingHandlers.numericValue = {\n        init: function(element, valueAccessor, allBindings, data, context) {\n            var stringified = ko.observable(ko.unwrap(valueAccessor()));\n            stringified.subscribe(function(value) {\n                var val = parseFloat(value);\n                if (!isNaN(val)) {\n                    valueAccessor()(val);\n                }\n            });\n            valueAccessor().subscribe(function(value) {\n                var str = JSON.stringify(value);\n                if ((str == \"0\") && ([\"-0\", \"-0.\"].indexOf(stringified()) >= 0))\n                     return;\n                 if ([\"null\", \"\"].indexOf(str) >= 0)\n                     return;\n                stringified(str);\n            });\n            ko.applyBindingsToNode(\n                element,\n                {\n                    value: stringified,\n                    valueUpdate: allBindings.get('valueUpdate'),\n                },\n                context,\n            );\n        }\n    };\n    var json_data = {\"formatted_vals\":[\"1\",\"2\",\"3\",\"4\",\"5\",\"6\",\"7\",\"8\",\"9\",\"10\",\"11\",\"12\",\"13\",\"14\",\"15\",\"16\",\"17\",\"18\",\"19\",\"20\",\"21\",\"22\",\"23\",\"24\",\"25\",\"26\",\"27\",\"28\",\"29\",\"30\",\"31\",\"32\",\"33\",\"34\",\"35\",\"36\",\"37\",\"38\",\"39\",\"40\",\"41\",\"42\",\"43\",\"44\",\"45\",\"46\",\"47\",\"48\",\"49\",\"50\",\"51\",\"52\",\"53\",\"54\",\"55\",\"56\",\"57\",\"58\",\"59\",\"60\",\"61\",\"62\",\"63\",\"64\",\"65\",\"66\",\"67\",\"68\",\"69\",\"70\",\"71\",\"72\",\"73\",\"74\",\"75\",\"76\",\"77\",\"78\",\"79\",\"80\",\"81\",\"82\",\"83\",\"84\",\"85\",\"86\",\"87\",\"88\",\"89\",\"90\",\"91\",\"92\",\"93\",\"94\",\"95\",\"96\",\"97\",\"98\",\"99\",\"100\",\"101\"],\"changes\":WebIO.getval({\"name\":\"changes\",\"scope\":\"6489192857496168451\",\"id\":\"5986684518501842339\",\"type\":\"observable\"}),\"index\":WebIO.getval({\"name\":\"index\",\"scope\":\"6489192857496168451\",\"id\":\"7917931446109229737\",\"type\":\"observable\"})};\n    var self = this;\n    function AppViewModel() {\n        for (var key in json_data) {\n            var el = json_data[key];\n            this[key] = Array.isArray(el) ? ko.observableArray(el) : ko.observable(el);\n        }\n        \n        [this[\"formatted_val\"]=ko.computed(    function(){\n        return this.formatted_vals()[parseInt(this.index())-(1)];\n    }\n,this)]\n        [this[\"changes\"].subscribe((function (val){!(this.valueFromJulia[\"changes\"]) ? (WebIO.setval({\"name\":\"changes\",\"scope\":\"6489192857496168451\",\"id\":\"5986684518501842339\",\"type\":\"observable\"},val)) : undefined; return this.valueFromJulia[\"changes\"]=false}),self),this[\"index\"].subscribe((function (val){!(this.valueFromJulia[\"index\"]) ? (WebIO.setval({\"name\":\"index\",\"scope\":\"6489192857496168451\",\"id\":\"7917931446109229737\",\"type\":\"observable\"},val)) : undefined; return this.valueFromJulia[\"index\"]=false}),self)]\n        \n    }\n    self.model = new AppViewModel();\n    self.valueFromJulia = {};\n    for (var key in json_data) {\n        self.valueFromJulia[key] = false;\n    }\n    ko.applyBindings(self.model, self.dom);\n}\n);\n    (WebIO.importBlock({\"data\":[{\"name\":\"knockout\",\"type\":\"js\",\"url\":\"/assetserver/022a91f14dcdbbacf06bf50005c270db01df1267-knockout.js\"},{\"name\":\"knockout_punches\",\"type\":\"js\",\"url\":\"/assetserver/3495c483f9e871f89a1e022267cccdb6efaa604b-knockout_punches.js\"}],\"type\":\"async_block\"})).then((imports) => handler.apply(this, imports));\n}\n"
            ],
            "observables": {
             "changes": {
              "id": "5986684518501842339",
              "sync": false,
              "value": 0
             },
             "index": {
              "id": "7917931446109229737",
              "sync": true,
              "value": 51
             }
            },
            "systemjs_options": null
           },
           "nodeType": "Scope",
           "props": {},
           "type": "node"
          }
         ],
         "instanceArgs": {
          "namespace": "html",
          "tag": "div"
         },
         "nodeType": "DOM",
         "props": {
          "className": "field interact-widget"
         },
         "type": "node"
        },
        {
         "children": [
          {
           "children": [],
           "instanceArgs": {
            "id": "1834986364491557789",
            "name": "obs-node"
           },
           "nodeType": "ObservableNode",
           "props": {},
           "type": "node"
          }
         ],
         "instanceArgs": {
          "handlers": {},
          "id": "3925868436730073126",
          "imports": {
           "data": [],
           "type": "async_block"
          },
          "mount_callbacks": [],
          "observables": {
           "obs-node": {
            "id": "1834986364491557789",
            "sync": false,
            "value": {
             "children": [
              {
               "children": [],
               "instanceArgs": {
                "namespace": "html",
                "tag": "div"
               },
               "nodeType": "DOM",
               "props": {
                "setInnerHtml": "<img src='data:image/png;base64,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'></img>"
               },
               "type": "node"
              }
             ],
             "instanceArgs": {
              "namespace": "html",
              "tag": "div"
             },
             "nodeType": "DOM",
             "props": {
              "className": "interact-flex-row interact-widget"
             },
             "type": "node"
            }
           }
          },
          "systemjs_options": null
         },
         "nodeType": "Scope",
         "props": {},
         "type": "node"
        }
       ],
       "instanceArgs": {
        "namespace": "html",
        "tag": "div"
       },
       "nodeType": "DOM",
       "props": {},
       "type": "node"
      },
      "text/html": [
       "<div\n",
       "    class=\"webio-mountpoint\"\n",
       "    data-webio-mountpoint=\"9396402012179825995\"\n",
       ">\n",
       "    <script>\n",
       "    if (window.require && require.defined && require.defined(\"nbextensions/webio-jupyter-notebook\")) {\n",
       "        console.log(\"Jupyter WebIO extension detected, not mounting.\");\n",
       "    } else if (window.WebIO) {\n",
       "        WebIO.mount(\n",
       "            document.querySelector('[data-webio-mountpoint=\"9396402012179825995\"]'),\n",
       "            {\"props\":{},\"nodeType\":\"DOM\",\"type\":\"node\",\"instanceArgs\":{\"namespace\":\"html\",\"tag\":\"div\"},\"children\":[{\"props\":{\"className\":\"field interact-widget\"},\"nodeType\":\"DOM\",\"type\":\"node\",\"instanceArgs\":{\"namespace\":\"html\",\"tag\":\"div\"},\"children\":[{\"props\":{},\"nodeType\":\"Scope\",\"type\":\"node\",\"instanceArgs\":{\"imports\":{\"data\":[{\"name\":\"knockout\",\"type\":\"js\",\"url\":\"\\/assetserver\\/022a91f14dcdbbacf06bf50005c270db01df1267-knockout.js\"},{\"name\":\"knockout_punches\",\"type\":\"js\",\"url\":\"\\/assetserver\\/3495c483f9e871f89a1e022267cccdb6efaa604b-knockout_punches.js\"},{\"name\":null,\"type\":\"js\",\"url\":\"\\/assetserver\\/7bbebb41185686fa4dc236bb897c98a530d51dc2-all.js\"},{\"name\":null,\"type\":\"css\",\"url\":\"\\/assetserver\\/f86af320478262bcf00b9db44a2264161f394708-style.css\"},{\"name\":null,\"type\":\"css\",\"url\":\"\\/assetserver\\/755919ab5089275528f8a583d9fba4e0adcae551-bulma_confined.min.css\"}],\"type\":\"async_block\"},\"id\":\"6489192857496168451\",\"handlers\":{\"changes\":[\"(function (val){return (val!=this.model[\\\"changes\\\"]()) ? (this.valueFromJulia[\\\"changes\\\"]=true, this.model[\\\"changes\\\"](val)) : undefined})\"],\"index\":[\"(function (val){return (val!=this.model[\\\"index\\\"]()) ? (this.valueFromJulia[\\\"index\\\"]=true, this.model[\\\"index\\\"](val)) : undefined})\"]},\"systemjs_options\":null,\"mount_callbacks\":[\"function () {\\n    var handler = (function (ko, koPunches) {\\n    ko.punches.enableAll();\\n    ko.bindingHandlers.numericValue = {\\n        init: function(element, valueAccessor, allBindings, data, context) {\\n            var stringified = ko.observable(ko.unwrap(valueAccessor()));\\n            stringified.subscribe(function(value) {\\n                var val = parseFloat(value);\\n                if (!isNaN(val)) {\\n                    valueAccessor()(val);\\n                }\\n            });\\n            valueAccessor().subscribe(function(value) {\\n                var str = JSON.stringify(value);\\n                if ((str == \\\"0\\\") && ([\\\"-0\\\", \\\"-0.\\\"].indexOf(stringified()) >= 0))\\n                     return;\\n                 if ([\\\"null\\\", \\\"\\\"].indexOf(str) >= 0)\\n                     return;\\n                stringified(str);\\n            });\\n            ko.applyBindingsToNode(\\n                element,\\n                {\\n                    value: stringified,\\n                    valueUpdate: allBindings.get('valueUpdate'),\\n                },\\n                context,\\n            );\\n        }\\n    };\\n    var json_data = {\\\"formatted_vals\\\":[\\\"1\\\",\\\"2\\\",\\\"3\\\",\\\"4\\\",\\\"5\\\",\\\"6\\\",\\\"7\\\",\\\"8\\\",\\\"9\\\",\\\"10\\\",\\\"11\\\",\\\"12\\\",\\\"13\\\",\\\"14\\\",\\\"15\\\",\\\"16\\\",\\\"17\\\",\\\"18\\\",\\\"19\\\",\\\"20\\\",\\\"21\\\",\\\"22\\\",\\\"23\\\",\\\"24\\\",\\\"25\\\",\\\"26\\\",\\\"27\\\",\\\"28\\\",\\\"29\\\",\\\"30\\\",\\\"31\\\",\\\"32\\\",\\\"33\\\",\\\"34\\\",\\\"35\\\",\\\"36\\\",\\\"37\\\",\\\"38\\\",\\\"39\\\",\\\"40\\\",\\\"41\\\",\\\"42\\\",\\\"43\\\",\\\"44\\\",\\\"45\\\",\\\"46\\\",\\\"47\\\",\\\"48\\\",\\\"49\\\",\\\"50\\\",\\\"51\\\",\\\"52\\\",\\\"53\\\",\\\"54\\\",\\\"55\\\",\\\"56\\\",\\\"57\\\",\\\"58\\\",\\\"59\\\",\\\"60\\\",\\\"61\\\",\\\"62\\\",\\\"63\\\",\\\"64\\\",\\\"65\\\",\\\"66\\\",\\\"67\\\",\\\"68\\\",\\\"69\\\",\\\"70\\\",\\\"71\\\",\\\"72\\\",\\\"73\\\",\\\"74\\\",\\\"75\\\",\\\"76\\\",\\\"77\\\",\\\"78\\\",\\\"79\\\",\\\"80\\\",\\\"81\\\",\\\"82\\\",\\\"83\\\",\\\"84\\\",\\\"85\\\",\\\"86\\\",\\\"87\\\",\\\"88\\\",\\\"89\\\",\\\"90\\\",\\\"91\\\",\\\"92\\\",\\\"93\\\",\\\"94\\\",\\\"95\\\",\\\"96\\\",\\\"97\\\",\\\"98\\\",\\\"99\\\",\\\"100\\\",\\\"101\\\"],\\\"changes\\\":WebIO.getval({\\\"name\\\":\\\"changes\\\",\\\"scope\\\":\\\"6489192857496168451\\\",\\\"id\\\":\\\"5986684518501842339\\\",\\\"type\\\":\\\"observable\\\"}),\\\"index\\\":WebIO.getval({\\\"name\\\":\\\"index\\\",\\\"scope\\\":\\\"6489192857496168451\\\",\\\"id\\\":\\\"7917931446109229737\\\",\\\"type\\\":\\\"observable\\\"})};\\n    var self = this;\\n    function AppViewModel() {\\n        for (var key in json_data) {\\n            var el = json_data[key];\\n            this[key] = Array.isArray(el) ? ko.observableArray(el) : ko.observable(el);\\n        }\\n        \\n        [this[\\\"formatted_val\\\"]=ko.computed(    function(){\\n        return this.formatted_vals()[parseInt(this.index())-(1)];\\n    }\\n,this)]\\n        [this[\\\"changes\\\"].subscribe((function (val){!(this.valueFromJulia[\\\"changes\\\"]) ? (WebIO.setval({\\\"name\\\":\\\"changes\\\",\\\"scope\\\":\\\"6489192857496168451\\\",\\\"id\\\":\\\"5986684518501842339\\\",\\\"type\\\":\\\"observable\\\"},val)) : undefined; return this.valueFromJulia[\\\"changes\\\"]=false}),self),this[\\\"index\\\"].subscribe((function (val){!(this.valueFromJulia[\\\"index\\\"]) ? (WebIO.setval({\\\"name\\\":\\\"index\\\",\\\"scope\\\":\\\"6489192857496168451\\\",\\\"id\\\":\\\"7917931446109229737\\\",\\\"type\\\":\\\"observable\\\"},val)) : undefined; return this.valueFromJulia[\\\"index\\\"]=false}),self)]\\n        \\n    }\\n    self.model = new AppViewModel();\\n    self.valueFromJulia = {};\\n    for (var key in json_data) {\\n        self.valueFromJulia[key] = false;\\n    }\\n    ko.applyBindings(self.model, self.dom);\\n}\\n);\\n    (WebIO.importBlock({\\\"data\\\":[{\\\"name\\\":\\\"knockout\\\",\\\"type\\\":\\\"js\\\",\\\"url\\\":\\\"\\/assetserver\\/022a91f14dcdbbacf06bf50005c270db01df1267-knockout.js\\\"},{\\\"name\\\":\\\"knockout_punches\\\",\\\"type\\\":\\\"js\\\",\\\"url\\\":\\\"\\/assetserver\\/3495c483f9e871f89a1e022267cccdb6efaa604b-knockout_punches.js\\\"}],\\\"type\\\":\\\"async_block\\\"})).then((imports) => handler.apply(this, imports));\\n}\\n\"],\"observables\":{\"changes\":{\"sync\":false,\"id\":\"5986684518501842339\",\"value\":0},\"index\":{\"sync\":true,\"id\":\"7917931446109229737\",\"value\":51}}},\"children\":[{\"props\":{\"className\":\"interact-flex-row interact-widget\"},\"nodeType\":\"DOM\",\"type\":\"node\",\"instanceArgs\":{\"namespace\":\"html\",\"tag\":\"div\"},\"children\":[{\"props\":{\"className\":\"interact-flex-row-left\"},\"nodeType\":\"DOM\",\"type\":\"node\",\"instanceArgs\":{\"namespace\":\"html\",\"tag\":\"div\"},\"children\":[{\"props\":{\"className\":\"interact \",\"style\":{\"padding\":\"5px 10px 0px 10px\"}},\"nodeType\":\"DOM\",\"type\":\"node\",\"instanceArgs\":{\"namespace\":\"html\",\"tag\":\"label\"},\"children\":[\"frame_index\"]}]},{\"props\":{\"className\":\"interact-flex-row-center\"},\"nodeType\":\"DOM\",\"type\":\"node\",\"instanceArgs\":{\"namespace\":\"html\",\"tag\":\"div\"},\"children\":[{\"props\":{\"max\":101,\"min\":1,\"attributes\":{\"type\":\"range\",\"data-bind\":\"numericValue: index, valueUpdate: 'input', event: {change: function (){this.changes(this.changes()+1)}}\",\"orient\":\"horizontal\"},\"step\":1,\"className\":\"slider slider is-fullwidth\",\"style\":{}},\"nodeType\":\"DOM\",\"type\":\"node\",\"instanceArgs\":{\"namespace\":\"html\",\"tag\":\"input\"},\"children\":[]}]},{\"props\":{\"className\":\"interact-flex-row-right\"},\"nodeType\":\"DOM\",\"type\":\"node\",\"instanceArgs\":{\"namespace\":\"html\",\"tag\":\"div\"},\"children\":[{\"props\":{\"attributes\":{\"data-bind\":\"text: formatted_val\"}},\"nodeType\":\"DOM\",\"type\":\"node\",\"instanceArgs\":{\"namespace\":\"html\",\"tag\":\"p\"},\"children\":[]}]}]}]}]},{\"props\":{},\"nodeType\":\"Scope\",\"type\":\"node\",\"instanceArgs\":{\"imports\":{\"data\":[],\"type\":\"async_block\"},\"id\":\"10620279244371385287\",\"handlers\":{},\"systemjs_options\":null,\"mount_callbacks\":[],\"observables\":{\"obs-node\":{\"sync\":false,\"id\":\"17036333850824850777\",\"value\":{\"props\":{\"className\":\"interact-flex-row interact-widget\"},\"nodeType\":\"DOM\",\"type\":\"node\",\"instanceArgs\":{\"namespace\":\"html\",\"tag\":\"div\"},\"children\":[{\"props\":{\"setInnerHtml\":\"<img src='data:image\\/png;base64,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'><\\/img>\"},\"nodeType\":\"DOM\",\"type\":\"node\",\"instanceArgs\":{\"namespace\":\"html\",\"tag\":\"div\"},\"children\":[]}]}}}},\"children\":[{\"props\":{},\"nodeType\":\"ObservableNode\",\"type\":\"node\",\"instanceArgs\":{\"id\":\"17036333850824850777\",\"name\":\"obs-node\"},\"children\":[]}]}]},\n",
       "            window,\n",
       "        );\n",
       "    } else {\n",
       "        document\n",
       "            .querySelector('[data-webio-mountpoint=\"9396402012179825995\"]')\n",
       "            .innerHTML = (\n",
       "                '<strong>WebIO not detected. Please read ' +\n",
       "                '<a href=\"https://juliagizmos.github.io/WebIO.jl/latest/troubleshooting/not-detected/\">the troubleshooting guide</a> ' +\n",
       "                'for more information on how to resolve this issue.' +\n",
       "                '</strong>'\n",
       "            );\n",
       "    }\n",
       "    </script>\n",
       "</div>\n"
      ],
      "text/plain": [
       "Node{WebIO.DOM}(WebIO.DOM(:html, :div), Any[Node{WebIO.DOM}(WebIO.DOM(:html, :div), Any[Scope(Node{WebIO.DOM}(WebIO.DOM(:html, :div), Any[Node{WebIO.DOM}(WebIO.DOM(:html, :div), Any[Node{WebIO.DOM}(WebIO.DOM(:html, :label), Any[\"frame_index\"], Dict{Symbol,Any}(:className => \"interact \",:style => Dict{Any,Any}(:padding => \"5px 10px 0px 10px\")))], Dict{Symbol,Any}(:className => \"interact-flex-row-left\")), Node{WebIO.DOM}(WebIO.DOM(:html, :div), Any[Node{WebIO.DOM}(WebIO.DOM(:html, :input), Any[], Dict{Symbol,Any}(:max => 101,:min => 1,:attributes => Dict{Any,Any}(:type => \"range\",Symbol(\"data-bind\") => \"numericValue: index, valueUpdate: 'input', event: {change: function (){this.changes(this.changes()+1)}}\",\"orient\" => \"horizontal\"),:step => 1,:className => \"slider slider is-fullwidth\",:style => Dict{Any,Any}()))], Dict{Symbol,Any}(:className => \"interact-flex-row-center\")), Node{WebIO.DOM}(WebIO.DOM(:html, :div), Any[Node{WebIO.DOM}(WebIO.DOM(:html, :p), Any[], Dict{Symbol,Any}(:attributes => Dict(\"data-bind\" => \"text: formatted_val\")))], Dict{Symbol,Any}(:className => \"interact-flex-row-right\"))], Dict{Symbol,Any}(:className => \"interact-flex-row interact-widget\")), Dict{String,Tuple{Observables.AbstractObservable,Union{Nothing, Bool}}}(\"changes\" => (Observable{Int64} with 1 listeners. Value:\n",
       "0, nothing),\"index\" => (Observable{Int64} with 2 listeners. Value:\n",
       "51, nothing)), Set(String[]), nothing, Asset[Asset(\"js\", \"knockout\", \"C:\\\\Users\\\\Maxime\\\\.julia\\\\packages\\\\Knockout\\\\IP1uR\\\\src\\\\..\\\\assets\\\\knockout.js\"), Asset(\"js\", \"knockout_punches\", \"C:\\\\Users\\\\Maxime\\\\.julia\\\\packages\\\\Knockout\\\\IP1uR\\\\src\\\\..\\\\assets\\\\knockout_punches.js\"), Asset(\"js\", nothing, \"C:\\\\Users\\\\Maxime\\\\.julia\\\\packages\\\\InteractBase\\\\NMcus\\\\src\\\\..\\\\assets\\\\all.js\"), Asset(\"css\", nothing, \"C:\\\\Users\\\\Maxime\\\\.julia\\\\packages\\\\InteractBase\\\\NMcus\\\\src\\\\..\\\\assets\\\\style.css\"), Asset(\"css\", nothing, \"C:\\\\Users\\\\Maxime\\\\.julia\\\\packages\\\\Interact\\\\SbgIk\\\\src\\\\..\\\\assets\\\\bulma_confined.min.css\")], Dict{Any,Any}(\"changes\" => Any[WebIO.JSString(\"(function (val){return (val!=this.model[\\\"changes\\\"]()) ? (this.valueFromJulia[\\\"changes\\\"]=true, this.model[\\\"changes\\\"](val)) : undefined})\")],\"index\" => Any[WebIO.JSString(\"(function (val){return (val!=this.model[\\\"index\\\"]()) ? (this.valueFromJulia[\\\"index\\\"]=true, this.model[\\\"index\\\"](val)) : undefined})\")]), WebIO.ConnectionPool(Channel{Any}(sz_max:32,sz_curr:0), Set(AbstractConnection[]), Base.GenericCondition{Base.AlwaysLockedST}(Base.InvasiveLinkedList{Task}(Task (runnable) @0x0000000012bf2850, Task (runnable) @0x0000000012bf2850), Base.AlwaysLockedST(1))), WebIO.JSString[WebIO.JSString(\"function () {\\n    var handler = (function (ko, koPunches) {\\n    ko.punches.enableAll();\\n    ko.bindingHandlers.numericValue = {\\n        init: function(element, valueAccessor, allBindings, data, context) {\\n            var stringified = ko.observable(ko.unwrap(valueAccessor()));\\n            stringified.subscribe(function(value) {\\n                var val = parseFloat(value);\\n                if (!isNaN(val)) {\\n                    valueAccessor()(val);\\n                }\\n            });\\n            valueAccessor().subscribe(function(value) {\\n                var str = JSON.stringify(value);\\n                if ((str == \\\"0\\\") && ([\\\"-0\\\", \\\"-0.\\\"].indexOf(stringified()) >= 0))\\n                     return;\\n                 if ([\\\"null\\\", \\\"\\\"].indexOf(str) >= 0)\\n                     return;\\n                stringified(str);\\n            });\\n            ko.applyBindingsToNode(\\n                element,\\n                {\\n                    value: stringified,\\n                    valueUpdate: allBindings.get('valueUpdate'),\\n                },\\n                context,\\n            );\\n        }\\n    };\\n    var json_data = {\\\"formatted_vals\\\":[\\\"1\\\",\\\"2\\\",\\\"3\\\",\\\"4\\\",\\\"5\\\",\\\"6\\\",\\\"7\\\",\\\"8\\\",\\\"9\\\",\\\"10\\\",\\\"11\\\",\\\"12\\\",\\\"13\\\",\\\"14\\\",\\\"15\\\",\\\"16\\\",\\\"17\\\",\\\"18\\\",\\\"19\\\",\\\"20\\\",\\\"21\\\",\\\"22\\\",\\\"23\\\",\\\"24\\\",\\\"25\\\",\\\"26\\\",\\\"27\\\",\\\"28\\\",\\\"29\\\",\\\"30\\\",\\\"31\\\",\\\"32\\\",\\\"33\\\",\\\"34\\\",\\\"35\\\",\\\"36\\\",\\\"37\\\",\\\"38\\\",\\\"39\\\",\\\"40\\\",\\\"41\\\",\\\"42\\\",\\\"43\\\",\\\"44\\\",\\\"45\\\",\\\"46\\\",\\\"47\\\",\\\"48\\\",\\\"49\\\",\\\"50\\\",\\\"51\\\",\\\"52\\\",\\\"53\\\",\\\"54\\\",\\\"55\\\",\\\"56\\\",\\\"57\\\",\\\"58\\\",\\\"59\\\",\\\"60\\\",\\\"61\\\",\\\"62\\\",\\\"63\\\",\\\"64\\\",\\\"65\\\",\\\"66\\\",\\\"67\\\",\\\"68\\\",\\\"69\\\",\\\"70\\\",\\\"71\\\",\\\"72\\\",\\\"73\\\",\\\"74\\\",\\\"75\\\",\\\"76\\\",\\\"77\\\",\\\"78\\\",\\\"79\\\",\\\"80\\\",\\\"81\\\",\\\"82\\\",\\\"83\\\",\\\"84\\\",\\\"85\\\",\\\"86\\\",\\\"87\\\",\\\"88\\\",\\\"89\\\",\\\"90\\\",\\\"91\\\",\\\"92\\\",\\\"93\\\",\\\"94\\\",\\\"95\\\",\\\"96\\\",\\\"97\\\",\\\"98\\\",\\\"99\\\",\\\"100\\\",\\\"101\\\"],\\\"changes\\\":WebIO.getval({\\\"name\\\":\\\"changes\\\",\\\"scope\\\":\\\"6489192857496168451\\\",\\\"id\\\":\\\"5986684518501842339\\\",\\\"type\\\":\\\"observable\\\"}),\\\"index\\\":WebIO.getval({\\\"name\\\":\\\"index\\\",\\\"scope\\\":\\\"6489192857496168451\\\",\\\"id\\\":\\\"7917931446109229737\\\",\\\"type\\\":\\\"observable\\\"})};\\n    var self = this;\\n    function AppViewModel() {\\n        for (var key in json_data) {\\n            var el = json_data[key];\\n            this[key] = Array.isArray(el) ? ko.observableArray(el) : ko.observable(el);\\n        }\\n        \\n        [this[\\\"formatted_val\\\"]=ko.computed(    function(){\\n        return this.formatted_vals()[parseInt(this.index())-(1)];\\n    }\\n,this)]\\n        [this[\\\"changes\\\"].subscribe((function (val){!(this.valueFromJulia[\\\"changes\\\"]) ? (WebIO.setval({\\\"name\\\":\\\"changes\\\",\\\"scope\\\":\\\"6489192857496168451\\\",\\\"id\\\":\\\"5986684518501842339\\\",\\\"type\\\":\\\"observable\\\"},val)) : undefined; return this.valueFromJulia[\\\"changes\\\"]=false}),self),this[\\\"index\\\"].subscribe((function (val){!(this.valueFromJulia[\\\"index\\\"]) ? (WebIO.setval({\\\"name\\\":\\\"index\\\",\\\"scope\\\":\\\"6489192857496168451\\\",\\\"id\\\":\\\"7917931446109229737\\\",\\\"type\\\":\\\"observable\\\"},val)) : undefined; return this.valueFromJulia[\\\"index\\\"]=false}),self)]\\n        \\n    }\\n    self.model = new AppViewModel();\\n    self.valueFromJulia = {};\\n    for (var key in json_data) {\\n        self.valueFromJulia[key] = false;\\n    }\\n    ko.applyBindings(self.model, self.dom);\\n}\\n);\\n    (WebIO.importBlock({\\\"data\\\":[{\\\"name\\\":\\\"knockout\\\",\\\"type\\\":\\\"js\\\",\\\"url\\\":\\\"/assetserver/022a91f14dcdbbacf06bf50005c270db01df1267-knockout.js\\\"},{\\\"name\\\":\\\"knockout_punches\\\",\\\"type\\\":\\\"js\\\",\\\"url\\\":\\\"/assetserver/3495c483f9e871f89a1e022267cccdb6efaa604b-knockout_punches.js\\\"}],\\\"type\\\":\\\"async_block\\\"})).then((imports) => handler.apply(this, imports));\\n}\\n\")])], Dict{Symbol,Any}(:className => \"field interact-widget\")), Observable{Any} with 0 listeners. Value:\n",
       "Node{WebIO.DOM}(WebIO.DOM(:html, :div), Any[Cairo.CairoSurfaceIOStream{UInt32}(Ptr{Nothing} @0x000000002049fae0, 1000.0, 600.0, IOBuffer(data=UInt8[...], readable=true, writable=true, seekable=true, append=false, size=0, maxsize=Inf, ptr=1, mark=-1))], Dict{Symbol,Any}(:className => \"interact-flex-row interact-widget\"))], Dict{Symbol,Any}())"
      ]
     },
     "execution_count": 12,
     "metadata": {
      "application/vnd.webio.node+json": {
       "kernelId": "5c8ffdce-6dda-4b0c-a8b3-6131c4720f68"
      }
     },
     "output_type": "execute_result"
    }
   ],
   "source": [
    "timestep = 0.1\n",
    "\n",
    "models = Dict{Int, DriverModel}()\n",
    "# constant speed model\n",
    "models[1] = InterDriver(LaneSpecificAccelLatLon(0.0,0.0))\n",
    "\n",
    "nticks = 100\n",
    "scenes = simulate(scene, roadway, models, nticks, timestep)\n",
    "\n",
    "# interactive visualization\n",
    "@manipulate for frame_index in 1 : length(scenes)\n",
    "    render([roadway, scenes[frame_index]], camera=cam)\n",
    "end"
   ]
  },
  {
   "cell_type": "code",
   "execution_count": null,
   "metadata": {},
   "outputs": [],
   "source": []
  }
 ],
 "metadata": {
  "@webio": {
   "lastCommId": "016c03c537ae410ea884db94603c57f4",
   "lastKernelId": "5c8ffdce-6dda-4b0c-a8b3-6131c4720f68"
  },
  "kernelspec": {
   "display_name": "Julia 1.3.0",
   "language": "julia",
   "name": "julia-1.3"
  },
  "language_info": {
   "file_extension": ".jl",
   "mimetype": "application/julia",
   "name": "julia",
   "version": "1.3.0"
  }
 },
 "nbformat": 4,
 "nbformat_minor": 2
}
